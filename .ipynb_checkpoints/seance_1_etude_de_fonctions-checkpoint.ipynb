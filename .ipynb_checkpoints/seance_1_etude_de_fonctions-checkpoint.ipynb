{
 "cells": [
  {
   "cell_type": "markdown",
   "metadata": {
    "id": "VSIrqDZGErh3"
   },
   "source": [
    "Modifiez le texte suivant en indiquent les deux ou trois membres du groupe \n",
    "\n",
    "- Prénom Nom n°1\n",
    "- Prénom Nom n°2\n",
    "- Prénom Nom n°3"
   ]
  },
  {
   "cell_type": "markdown",
   "metadata": {
    "id": "tWeconU4Qu9D"
   },
   "source": [
    "# Exercice 1 : trouver les zéros"
   ]
  },
  {
   "cell_type": "markdown",
   "metadata": {
    "id": "UUnoOL74KC3B"
   },
   "source": [
    "### Code fourni\n",
    "/!\\ ne pas modifier /!\\\n",
    "Exécuter chaque bloc pour avoir accès aux fonctions qui ont été pré-définies"
   ]
  },
  {
   "cell_type": "markdown",
   "metadata": {
    "id": "AveaTKrHEapA"
   },
   "source": [
    "Import du package \"math\" pour avoir accès aux fonctions trigonométriques et à la constante PI"
   ]
  },
  {
   "cell_type": "code",
   "execution_count": 5,
   "metadata": {
    "id": "fJvVP9Hn5mYA"
   },
   "outputs": [],
   "source": [
    "from math import *\n",
    "\n",
    "epsilon = 10**(-15)\n",
    "pas = 0.1"
   ]
  },
  {
   "cell_type": "markdown",
   "metadata": {
    "id": "qKu55a4WE83v"
   },
   "source": [
    "La définition des fonctions mathématiques sur lesquelles la recherche de zéro sera effectuée"
   ]
  },
  {
   "cell_type": "code",
   "execution_count": 6,
   "metadata": {
    "id": "g9XCaKk034V6"
   },
   "outputs": [],
   "source": [
    "# Identité\n",
    "def identite ( x ) :\n",
    "    if ( isinstance ( x, float ) or isinstance ( x, int ) ) :\n",
    "        return x\n",
    "    else : \n",
    "        res = []\n",
    "        for i in range ( len ( x ) ) :\n",
    "            res.append ( x[i] )\n",
    "        return res\n",
    "    \n",
    "# Sinus\n",
    "def sinus ( x ) :\n",
    "    if ( isinstance ( x, float ) or isinstance ( x, int ) ) :\n",
    "        return sin(x)\n",
    "    else : \n",
    "        res = []\n",
    "        for i in range ( len ( x ) ) :\n",
    "            res.append ( sin( x[i] ) )\n",
    "        return res\n",
    "    \n",
    "# Cosinus  \n",
    "def cosinus ( x ) :\n",
    "    if ( isinstance ( x, float ) or isinstance ( x, int ) ) :\n",
    "        return cos(x)\n",
    "    else : \n",
    "        res = []\n",
    "        for i in range ( len ( x ) ) :\n",
    "            res.append ( cos( x[i] ) )\n",
    "        return res\n",
    "    \n",
    "# Tangente\n",
    "def tangente ( x ) :\n",
    "    if ( isinstance ( x, float ) or isinstance ( x, int ) ) :\n",
    "        return tan(x)\n",
    "    else : \n",
    "        res = []\n",
    "        for i in range ( len ( x ) ) :\n",
    "            res.append ( tan( x[i] ) )\n",
    "        return res\n",
    "    \n",
    "# Linéaire\n",
    "def lineaire ( x ) :\n",
    "    if ( isinstance ( x, float ) or isinstance ( x, int ) ) :\n",
    "        return -2*x + 5\n",
    "    else : \n",
    "        res = []\n",
    "        for i in range ( len ( x ) ) :\n",
    "            res.append ( lineaire( x[i] ) )\n",
    "        return res\n",
    "    \n",
    "# Quadratique \n",
    "def quadratique ( x ) :\n",
    "    if ( isinstance ( x, float ) or isinstance ( x, int ) ) :\n",
    "        return -3*x*x + 5*x - 1\n",
    "    else : \n",
    "        res = []\n",
    "        for i in range ( len ( x ) ) :\n",
    "            res.append ( quadratique( x[i] ) )\n",
    "        return res\n",
    "    \n",
    "# Cubique\n",
    "def cubique ( x ) :\n",
    "    if ( isinstance ( x, float ) or isinstance ( x, int ) ) :\n",
    "        return x*x*x + 2*x*x - 6*x + 3\n",
    "    else : \n",
    "        res = []\n",
    "        for i in range ( len ( x ) ) :\n",
    "            res.append ( cubique( x[i] ) )\n",
    "        return res"
   ]
  },
  {
   "cell_type": "markdown",
   "metadata": {
    "id": "brdQPrl5FyKr"
   },
   "source": [
    "Fonctions de test"
   ]
  },
  {
   "cell_type": "code",
   "execution_count": 7,
   "metadata": {
    "id": "QxzEGBTb7AUJ"
   },
   "outputs": [],
   "source": [
    "def testUnique ( methode ) :\n",
    "\n",
    "    # Identité\n",
    "    x = methode ( identite, -1, 1 )\n",
    "    print ( \"f(x) = x\" ) \n",
    "    print ( \"[-1 ; 1]\" ) \n",
    "    print ( \"x =\", x )\n",
    "    print ( \"f(x) =\", identite(x) )\n",
    "    print()\n",
    "\n",
    "    # Sinus\n",
    "    x = methode ( sinus, -pi/2, pi/2 )\n",
    "    print ( \"f(x) = sin(x)\" ) \n",
    "    print ( \"[-PI/2 ; PI/2]\" ) \n",
    "    print ( \"x =\", x )\n",
    "    print ( \"f(x) =\", sinus(x) )\n",
    "    print()\n",
    "\n",
    "    # Cosinus\n",
    "    x = methode ( cosinus, 0, pi )\n",
    "    print ( \"f(x) = cos(x)\" ) \n",
    "    print ( \"[0 ; PI]\" )\n",
    "    print ( \"x =\", x )\n",
    "    print ( \"f(x) =\", cosinus(x) )\n",
    "    print() \n",
    " \n",
    "    # Tangente\n",
    "    x = methode ( tangente, -pi/2, pi/2 )\n",
    "    print ( \"f(x) = tan(x)\" ) \n",
    "    print ( \"[-PI/2 ; PI/2]\" )\n",
    "    print ( \"x =\", x )\n",
    "    print ( \"f(x) =\", tangente(x) )\n",
    "    print()\n",
    "\n",
    "    # Linéaire\n",
    "    x = methode ( lineaire, 2, 3 )\n",
    "    print ( \"f(x) = -2x + 5\" )\n",
    "    print ( \"[2 ; 3]\" ) \n",
    "    print ( \"x =\", x )\n",
    "    print ( \"f(x) =\", lineaire(x) )\n",
    "    print()\n",
    "\n",
    "    # Quadratique\n",
    "    x = methode ( quadratique, 1, 2 )\n",
    "    print ( \"f(x) = -3*x^2 + 5x -1\" ) \n",
    "    print ( \"[1 ; 2]\" ) \n",
    "    print ( \"x =\", x )\n",
    "    print ( \"f(x) =\", quadratique(x) )\n",
    "    print()\n",
    "\n",
    "    # Cubique\n",
    "    x = methode ( cubique, -5, -3 )\n",
    "    print ( \"f(x) = x^3 + 2x^2 - 6x + 3 \" )  \n",
    "    print ( \"[-5 ; -3]\" )  \n",
    "    print ( \"x =\", x )\n",
    "    print ( \"f(x) =\", cubique(x) )\n",
    "    print()"
   ]
  },
  {
   "cell_type": "code",
   "execution_count": 8,
   "metadata": {
    "id": "JGPUWBHxA6Cj"
   },
   "outputs": [],
   "source": [
    "def testMultiple ( methode ) :\n",
    "\n",
    "    # Identité\n",
    "    x = methode ( identite, -5, 5, pas )\n",
    "    print ( \"f(x) = x\" ) \n",
    "    print ( \"[-5 ; 5]\" ) \n",
    "    print ( \"x =\", x )\n",
    "    print ( \"f(x) =\", identite(x) )\n",
    "    print()\n",
    "\n",
    "    # Sinus\n",
    "    x = methode ( sinus, -5, 5, pas )\n",
    "    print ( \"f(x) = sin(x)\" ) \n",
    "    print ( \"[-5 ; 5]\" ) \n",
    "    print ( \"x =\", x )\n",
    "    print ( \"f(x) =\", sinus(x) )\n",
    "    print()\n",
    "\n",
    "    # Cosinus\n",
    "    x = methode ( cosinus, -5, 5, pas )\n",
    "    print ( \"f(x) = cos(x)\" ) \n",
    "    print ( \"[-5 ; 5]\" ) \n",
    "    print ( \"x =\", x )\n",
    "    print ( \"f(x) =\", cosinus(x) )\n",
    "    print() \n",
    " \n",
    "    # Tangente\n",
    "    print ( \"Pas d'étude de la tangente : la fonction est discontinue\\n\")\n",
    "\n",
    "    # Linéaire\n",
    "    x = methode ( lineaire, -5, 5, pas )\n",
    "    print ( \"f(x) = -2x + 5\" )\n",
    "    print ( \"[-5 ; 5]\" ) \n",
    "    print ( \"x =\", x )\n",
    "    print ( \"f(x) =\", lineaire(x) )\n",
    "    print()\n",
    "\n",
    "    # Quadratique\n",
    "    x = methode ( quadratique, -5, 5, pas )\n",
    "    print ( \"f(x) = -3*x^2 + 5x -1\" ) \n",
    "    print ( \"[-5 ; 5]\" ) \n",
    "    print ( \"x =\", x )\n",
    "    print ( \"f(x) =\", quadratique(x) )\n",
    "    print()\n",
    "\n",
    "    # Cubique\n",
    "    x = methode ( cubique, -5, 5, pas )\n",
    "    print ( \"f(x) = x^3 + 2x^2 - 6x + 3 \" )  \n",
    "    print ( \"[-5 ; 5]\" )   \n",
    "    print ( \"x =\", x )\n",
    "    print ( \"f(x) =\", cubique(x) )\n",
    "    print()"
   ]
  },
  {
   "cell_type": "markdown",
   "metadata": {
    "id": "JVG11vxRLlUu"
   },
   "source": [
    "## Question 1 : calcul \"à la main\"\n",
    "\n",
    "Editez ce bloc de texte pour indiquer les zéros que vous avez trouvés :\n",
    "\n",
    "<table>\n",
    "    <tr>\n",
    "        <th> $$ f(x) $$ </th>\n",
    "        <th> Intervalle </th>\n",
    "        <th> $$ x $$ </th>\n",
    "    </tr>\n",
    "    <tr>\n",
    "        <td> $$ x $$ </td>\n",
    "        <td> $$ [ -1 ; 1 ] $$ </td>\n",
    "        <td> $$ ??? $$ </td>\n",
    "    </tr>\n",
    "    <tr>\n",
    "        <td> $$ sin(x) $$ </td>\n",
    "        <td> $$ [ -\\pi/2 ; \\pi/2 ] $$ </td>\n",
    "        <td> $$ ??? $$ </td>\n",
    "    </tr>\n",
    "    <tr>\n",
    "        <td> $$ cos(x) $$ </td>\n",
    "        <td> $$ [ 0 ; \\pi ] $$ </td>\n",
    "        <td> $$ ??? $$ </td>\n",
    "    </tr>\n",
    "    <tr>\n",
    "        <td> $$ tan(x) $$ </td>\n",
    "        <td> $$ [ -\\pi/2 ; \\pi/2 ] $$ </td>\n",
    "        <td> $$ ??? $$ </td>\n",
    "    </tr>\n",
    "    <tr>\n",
    "        <td> $$ -2x+5 $$ </td>\n",
    "        <td> $$ [ 2 ; 3 ] $$ </td>\n",
    "        <td> $$ ??? $$ </td>\n",
    "    </tr>\n",
    "    <tr>\n",
    "        <td> $$ -3x^2 + 5x - 1 $$ </td>\n",
    "        <td> $$ [ 1 ; 2 ] $$ </td>\n",
    "        <td> $$ ??? $$ </td>\n",
    "    </tr>\n",
    "    <tr>\n",
    "        <td> $$ x^3 + 2x^2 - 6x + 3 $$ </td>\n",
    "        <td> $$ [ -5 ; -3 ] $$ </td>\n",
    "        <td> $$ ??? $$ </td>\n",
    "    </tr>\n",
    "</table>\n",
    "    \n"
   ]
  },
  {
   "cell_type": "markdown",
   "metadata": {
    "id": "L8tJjudjAclA"
   },
   "source": [
    "## Question 2 : la méthode dichotomique"
   ]
  },
  {
   "cell_type": "code",
   "execution_count": 9,
   "metadata": {
    "colab": {
     "base_uri": "https://localhost:8080/"
    },
    "id": "BMldAvk12G4E",
    "outputId": "1ecebfbf-505f-4522-faa9-e6dd884df76c"
   },
   "outputs": [
    {
     "name": "stdout",
     "output_type": "stream",
     "text": [
      "*** Dichotomie ***\n",
      "\n",
      "f(x) = x\n",
      "[-1 ; 1]\n",
      "x = 0\n",
      "f(x) = 0\n",
      "\n",
      "f(x) = sin(x)\n",
      "[-PI/2 ; PI/2]\n",
      "x = 0\n",
      "f(x) = 0.0\n",
      "\n",
      "f(x) = cos(x)\n",
      "[0 ; PI]\n",
      "x = 0\n",
      "f(x) = 1.0\n",
      "\n",
      "f(x) = tan(x)\n",
      "[-PI/2 ; PI/2]\n",
      "x = 0\n",
      "f(x) = 0.0\n",
      "\n",
      "f(x) = -2x + 5\n",
      "[2 ; 3]\n",
      "x = 0\n",
      "f(x) = 5\n",
      "\n",
      "f(x) = -3*x^2 + 5x -1\n",
      "[1 ; 2]\n",
      "x = 0\n",
      "f(x) = -1\n",
      "\n",
      "f(x) = x^3 + 2x^2 - 6x + 3 \n",
      "[-5 ; -3]\n",
      "x = 0\n",
      "f(x) = 3\n",
      "\n"
     ]
    }
   ],
   "source": [
    "def dichotomie ( fonction, a, b ) :\n",
    "    return 0\n",
    "\n",
    "print ( \"*** Dichotomie ***\\n\" )\n",
    "testUnique ( dichotomie )"
   ]
  },
  {
   "cell_type": "markdown",
   "metadata": {
    "id": "_Ha9_xnPAliF"
   },
   "source": [
    "## Question 3 : la méthode de la sécante"
   ]
  },
  {
   "cell_type": "code",
   "execution_count": 10,
   "metadata": {
    "colab": {
     "base_uri": "https://localhost:8080/"
    },
    "id": "shJVNEcE32VW",
    "outputId": "1691ef26-40ce-492d-d6cb-0b682149d148"
   },
   "outputs": [
    {
     "name": "stdout",
     "output_type": "stream",
     "text": [
      "*** Sécante ***\n",
      "\n",
      "f(x) = x\n",
      "[-1 ; 1]\n",
      "x = 0\n",
      "f(x) = 0\n",
      "\n",
      "f(x) = sin(x)\n",
      "[-PI/2 ; PI/2]\n",
      "x = 0\n",
      "f(x) = 0.0\n",
      "\n",
      "f(x) = cos(x)\n",
      "[0 ; PI]\n",
      "x = 0\n",
      "f(x) = 1.0\n",
      "\n",
      "f(x) = tan(x)\n",
      "[-PI/2 ; PI/2]\n",
      "x = 0\n",
      "f(x) = 0.0\n",
      "\n",
      "f(x) = -2x + 5\n",
      "[2 ; 3]\n",
      "x = 0\n",
      "f(x) = 5\n",
      "\n",
      "f(x) = -3*x^2 + 5x -1\n",
      "[1 ; 2]\n",
      "x = 0\n",
      "f(x) = -1\n",
      "\n",
      "f(x) = x^3 + 2x^2 - 6x + 3 \n",
      "[-5 ; -3]\n",
      "x = 0\n",
      "f(x) = 3\n",
      "\n"
     ]
    }
   ],
   "source": [
    "def secante ( fonction, xn, b ) :\n",
    "    return 0\n",
    "\n",
    "print ( \"*** Sécante ***\\n\" )\n",
    "testUnique ( secante )"
   ]
  },
  {
   "cell_type": "markdown",
   "metadata": {
    "id": "KOjg5lj4Aqa_"
   },
   "source": [
    "## Question 4 : recherche multiple"
   ]
  },
  {
   "cell_type": "code",
   "execution_count": 11,
   "metadata": {
    "colab": {
     "base_uri": "https://localhost:8080/"
    },
    "id": "aoARU0Qu6Dyg",
    "outputId": "756b146e-07be-4517-af15-27ba93ee12fc"
   },
   "outputs": [
    {
     "name": "stdout",
     "output_type": "stream",
     "text": [
      "*** Recherche multiple *** \n",
      "\n",
      "f(x) = x\n",
      "[-5 ; 5]\n",
      "x = []\n",
      "f(x) = []\n",
      "\n",
      "f(x) = sin(x)\n",
      "[-5 ; 5]\n",
      "x = []\n",
      "f(x) = []\n",
      "\n",
      "f(x) = cos(x)\n",
      "[-5 ; 5]\n",
      "x = []\n",
      "f(x) = []\n",
      "\n",
      "Pas d'étude de la tangente : la fonction est discontinue\n",
      "\n",
      "f(x) = -2x + 5\n",
      "[-5 ; 5]\n",
      "x = []\n",
      "f(x) = []\n",
      "\n",
      "f(x) = -3*x^2 + 5x -1\n",
      "[-5 ; 5]\n",
      "x = []\n",
      "f(x) = []\n",
      "\n",
      "f(x) = x^3 + 2x^2 - 6x + 3 \n",
      "[-5 ; 5]\n",
      "x = []\n",
      "f(x) = []\n",
      "\n"
     ]
    }
   ],
   "source": [
    "def multiple ( fonction, u, v, pas ) :\n",
    "    return []\n",
    "\n",
    "print ( \"*** Recherche multiple *** \\n\")\n",
    "testMultiple ( multiple )"
   ]
  },
  {
   "cell_type": "markdown",
   "metadata": {
    "id": "WMre_KyLRjgS"
   },
   "source": [
    "# Exercice 2 : Calcul d'intégrales"
   ]
  },
  {
   "cell_type": "markdown",
   "metadata": {
    "id": "V-RsN6w-TNPO"
   },
   "source": [
    "### Code fourni\n",
    "/!\\ ne pas modifier /!\\"
   ]
  },
  {
   "cell_type": "markdown",
   "metadata": {
    "id": "VycLq_xmTb-F"
   },
   "source": [
    "Import des packages et variable globale"
   ]
  },
  {
   "cell_type": "code",
   "execution_count": 12,
   "metadata": {
    "id": "FZLUPu2rTL5B"
   },
   "outputs": [],
   "source": [
    "from math import *\n",
    "from random import *\n",
    "\n",
    "### Variables globales ###\n",
    "nb_elements = 100"
   ]
  },
  {
   "cell_type": "markdown",
   "metadata": {
    "id": "_0ttTzmjTu43"
   },
   "source": [
    "Fonctions mathématiques sur lesquelles les tests seront effectués"
   ]
  },
  {
   "cell_type": "code",
   "execution_count": 13,
   "metadata": {
    "id": "DqtMkkLTTCGx"
   },
   "outputs": [],
   "source": [
    "# Identité\n",
    "def identite ( x ) :\n",
    "    return x\n",
    "    \n",
    "# Linéaire\n",
    "def lineaire ( x ) :\n",
    "    return -2*x + 5\n",
    "\n",
    "# Quadratique \n",
    "def quadratique ( x ) :\n",
    "    return -3*x*x + 5*x - 1\n",
    "    \n",
    "# Cubique\n",
    "def cubique ( x ) :\n",
    "    return x*x*x + 2*x*x - 6*x + 3"
   ]
  },
  {
   "cell_type": "markdown",
   "metadata": {
    "id": "Lo__tv41Uzrn"
   },
   "source": [
    "Fonction de test"
   ]
  },
  {
   "cell_type": "code",
   "execution_count": 14,
   "metadata": {
    "id": "pFQRc1z5UHyl"
   },
   "outputs": [],
   "source": [
    "def test ( methode ) :\n",
    "    print()\n",
    "\n",
    "    # Identité\n",
    "    fonction = identite\n",
    "    a = 0\n",
    "    b = 2\n",
    "    print ( \"f(x) = x\" )\n",
    "    print ( \"[0 ; 2]\" )\n",
    "    print ( \"Intégrale :\", methode ( fonction, a, b, nb_elements ) )\n",
    "    print()\n",
    "\n",
    "    # Sinus\n",
    "    fonction = sin\n",
    "    a = 0\n",
    "    b = pi/2\n",
    "    print ( \"f(x) = sin(x)\" )\n",
    "    print ( \"[0 ; PI/2]\" )\n",
    "    print ( \"Intégrale :\", methode ( fonction, a, b, nb_elements ) )\n",
    "    print()\n",
    "\n",
    "    # Cosinus\n",
    "    fonction = cos\n",
    "    a = 0\n",
    "    b = pi/2\n",
    "    print ( \"f(x) = cos(x)\" )\n",
    "    print ( \"[0 ; PI/2]\" )\n",
    "    print ( \"Intégrale :\", methode ( fonction, a, b, nb_elements ) )\n",
    "    print()\n",
    "\n",
    "    # Tangente\n",
    "    fonction = tan\n",
    "    a = 0\n",
    "    b = pi/4\n",
    "    print ( \"f(x) = tan(x)\" )\n",
    "    print ( \"[0 ; PI/4]\" )\n",
    "    print ( \"Intégrale :\", methode ( fonction, a, b, nb_elements ) )\n",
    "    print()\n",
    "\n",
    "    # Linéaire\n",
    "    fonction = lineaire\n",
    "    a = 0\n",
    "    b = 2.5\n",
    "    print ( \"f(x) = -2x + 5\" )\n",
    "    print ( \"[0 ; 2.5]\" )\n",
    "    print ( \"Intégrale :\", methode ( fonction, a, b, nb_elements ) )\n",
    "    print()\n",
    "\n",
    "    # Quadratique\n",
    "    fonction = quadratique\n",
    "    a = 0.25\n",
    "    b = 1.25\n",
    "    print ( \"f(x) = -3x^2 + 5x - 1\" )\n",
    "    print ( \"[0.25 ; 1.25]\" )\n",
    "    print ( \"Intégrale :\", methode ( fonction, a, b, nb_elements ) )\n",
    "    print()\n",
    "\n",
    "    # Cubique\n",
    "    fonction = cubique\n",
    "    a = -3.5\n",
    "    b = 0.5\n",
    "    print ( \"f(x) = x^3 + 2x^2 - 6x + 3\" )\n",
    "    print ( \"[-3.5 ; 0.5]\" )\n",
    "    print ( \"Intégrale :\", methode ( fonction, a, b, nb_elements ) )\n",
    "    print()"
   ]
  },
  {
   "cell_type": "markdown",
   "metadata": {
    "id": "zQEAsbJ6VKn7"
   },
   "source": [
    "## Question 1 : calcul \"à la main\"\n",
    "\n",
    "Editez ce bloc de texte pour indiquer vos calculs d'intégrales :\n",
    "\n",
    "<table>\n",
    "    <tr>\n",
    "        <th> $$ f(x) $$ </th>\n",
    "        <th> Primitive </th>\n",
    "        <th> Intégrale </th>\n",
    "        <th> Valeur </th>\n",
    "    </tr>\n",
    "    <tr>\n",
    "        <td> $$ x $$ </td>\n",
    "        <td> $$ ??? $$ </td>\n",
    "        <td> $$ \\int_{0}^2 x.dx $$ </td>\n",
    "        <td> $$ ??? $$ </td>\n",
    "    </tr>\n",
    "    <tr>\n",
    "        <td> $$ sin(x) $$ </td>\n",
    "        <td> $$ ??? $$ </td>\n",
    "        <td> $$ \\int_{0}^{\\pi/2} sin(x).dx $$ </td>\n",
    "        <td> $$ ??? $$ </td>\n",
    "    </tr>\n",
    "    <tr>\n",
    "        <td> $$ cos(x) $$ </td>\n",
    "        <td> $$ ??? $$ </td>\n",
    "        <td> $$ \\int_{0}^{\\pi/2} cos(x).dx $$ </td>\n",
    "        <td> $$ ??? $$ </td>\n",
    "    </tr>\n",
    "    <tr>\n",
    "        <td> $$ tan(x) $$ </td>\n",
    "        <td> $$ ??? $$ </td>\n",
    "        <td> $$ \\int_{0}^{\\pi/4} tan(x).dx $$ </td>\n",
    "        <td> $$ ??? $$ </td>\n",
    "    </tr>\n",
    "    <tr>\n",
    "        <td> $$ -2x+5 $$ </td>\n",
    "        <td> $$ ??? $$ </td>\n",
    "        <td> $$ \\int_{0}^{2.5} (-2x+5).dx $$ </td>\n",
    "        <td> $$ ??? $$ </td>\n",
    "    </tr>\n",
    "    <tr>\n",
    "        <td> $$ -3x^2 + 5x - 1 $$ </td>\n",
    "        <td> $$ ??? $$ </td>\n",
    "        <td> $$ \\int_{0.25}^{1.25} (-3x^2 + 5x - 1).dx $$ </td>\n",
    "        <td> $$ ??? $$ </td>\n",
    "    </tr>\n",
    "    <tr>\n",
    "        <td> $$ x^3 + 2x^2 - 6x + 3 $$ </td>\n",
    "        <td> $$ ??? $$ </td>\n",
    "        <td> $$ \\int_{-3.5}^{0.5} (x^3 + 2x^2 - 6x + 3).dx $$ </td>\n",
    "        <td> $$ ??? $$ </td>\n",
    "    </tr>\n",
    "</table>"
   ]
  },
  {
   "cell_type": "markdown",
   "metadata": {
    "id": "joBf6EEFVQAM"
   },
   "source": [
    "## Question 2 : rectangle à droite"
   ]
  },
  {
   "cell_type": "code",
   "execution_count": 15,
   "metadata": {
    "colab": {
     "base_uri": "https://localhost:8080/"
    },
    "id": "10G91HJaV6Tj",
    "outputId": "5999d23c-1f3b-42ba-d632-6038d5ba529d"
   },
   "outputs": [
    {
     "name": "stdout",
     "output_type": "stream",
     "text": [
      "*** Rectangle à droite ***\n",
      "\n",
      "f(x) = x\n",
      "[0 ; 2]\n",
      "Intégrale : 0\n",
      "\n",
      "f(x) = sin(x)\n",
      "[0 ; PI/2]\n",
      "Intégrale : 0\n",
      "\n",
      "f(x) = cos(x)\n",
      "[0 ; PI/2]\n",
      "Intégrale : 0\n",
      "\n",
      "f(x) = tan(x)\n",
      "[0 ; PI/4]\n",
      "Intégrale : 0\n",
      "\n",
      "f(x) = -2x + 5\n",
      "[0 ; 2.5]\n",
      "Intégrale : 0\n",
      "\n",
      "f(x) = -3x^2 + 5x - 1\n",
      "[0.25 ; 1.25]\n",
      "Intégrale : 0\n",
      "\n",
      "f(x) = x^3 + 2x^2 - 6x + 3\n",
      "[-3.5 ; 0.5]\n",
      "Intégrale : 0\n",
      "\n"
     ]
    }
   ],
   "source": [
    "def rectangle_a_droite ( fonction, a, b, nb_rectangles ) :\n",
    "    return 0\n",
    "\n",
    "print ( \"*** Rectangle à droite ***\")\n",
    "test ( rectangle_a_droite )"
   ]
  },
  {
   "cell_type": "markdown",
   "metadata": {
    "id": "P0bpB4SsV0IZ"
   },
   "source": [
    "## Question 3 : rectangle à gauche"
   ]
  },
  {
   "cell_type": "code",
   "execution_count": 16,
   "metadata": {
    "colab": {
     "base_uri": "https://localhost:8080/"
    },
    "id": "GnjBa0ePV5Vn",
    "outputId": "f718082d-ba5c-4408-9d9a-3954ccde6056"
   },
   "outputs": [
    {
     "name": "stdout",
     "output_type": "stream",
     "text": [
      "*** Rectangle à gauche ***\n",
      "\n",
      "f(x) = x\n",
      "[0 ; 2]\n",
      "Intégrale : 0\n",
      "\n",
      "f(x) = sin(x)\n",
      "[0 ; PI/2]\n",
      "Intégrale : 0\n",
      "\n",
      "f(x) = cos(x)\n",
      "[0 ; PI/2]\n",
      "Intégrale : 0\n",
      "\n",
      "f(x) = tan(x)\n",
      "[0 ; PI/4]\n",
      "Intégrale : 0\n",
      "\n",
      "f(x) = -2x + 5\n",
      "[0 ; 2.5]\n",
      "Intégrale : 0\n",
      "\n",
      "f(x) = -3x^2 + 5x - 1\n",
      "[0.25 ; 1.25]\n",
      "Intégrale : 0\n",
      "\n",
      "f(x) = x^3 + 2x^2 - 6x + 3\n",
      "[-3.5 ; 0.5]\n",
      "Intégrale : 0\n",
      "\n"
     ]
    }
   ],
   "source": [
    "def rectangle_a_gauche ( fonction, a, b, nb_rectangles ) :\n",
    "    return 0\n",
    "\n",
    "print ( \"*** Rectangle à gauche ***\")\n",
    "test ( rectangle_a_gauche )"
   ]
  },
  {
   "cell_type": "markdown",
   "metadata": {
    "id": "Pgww_boAV7Dn"
   },
   "source": [
    "## Question 4 : rectangle au milieu"
   ]
  },
  {
   "cell_type": "code",
   "execution_count": 17,
   "metadata": {
    "colab": {
     "base_uri": "https://localhost:8080/"
    },
    "id": "QkP8B9-uWAIi",
    "outputId": "b4f04fac-f3f4-4616-90b5-124ec33e4021"
   },
   "outputs": [
    {
     "name": "stdout",
     "output_type": "stream",
     "text": [
      "*** Rectangle au milieu ***\n",
      "\n",
      "f(x) = x\n",
      "[0 ; 2]\n",
      "Intégrale : 0\n",
      "\n",
      "f(x) = sin(x)\n",
      "[0 ; PI/2]\n",
      "Intégrale : 0\n",
      "\n",
      "f(x) = cos(x)\n",
      "[0 ; PI/2]\n",
      "Intégrale : 0\n",
      "\n",
      "f(x) = tan(x)\n",
      "[0 ; PI/4]\n",
      "Intégrale : 0\n",
      "\n",
      "f(x) = -2x + 5\n",
      "[0 ; 2.5]\n",
      "Intégrale : 0\n",
      "\n",
      "f(x) = -3x^2 + 5x - 1\n",
      "[0.25 ; 1.25]\n",
      "Intégrale : 0\n",
      "\n",
      "f(x) = x^3 + 2x^2 - 6x + 3\n",
      "[-3.5 ; 0.5]\n",
      "Intégrale : 0\n",
      "\n"
     ]
    }
   ],
   "source": [
    "def rectangle_au_milieu ( fonction, a, b, nb_rectangles ) :\n",
    "    return 0\n",
    "\n",
    "print ( \"*** Rectangle au milieu ***\")\n",
    "test ( rectangle_au_milieu )"
   ]
  },
  {
   "cell_type": "markdown",
   "metadata": {
    "id": "QUl0B9QKWAlv"
   },
   "source": [
    "## Question 5 : trapèze"
   ]
  },
  {
   "cell_type": "code",
   "execution_count": 18,
   "metadata": {
    "colab": {
     "base_uri": "https://localhost:8080/"
    },
    "id": "htVnRgJhWGd-",
    "outputId": "c7dd338d-48da-4273-c9c3-299ecdad00c1"
   },
   "outputs": [
    {
     "name": "stdout",
     "output_type": "stream",
     "text": [
      "*** Trapeze ***\n",
      "\n",
      "f(x) = x\n",
      "[0 ; 2]\n",
      "Intégrale : 0\n",
      "\n",
      "f(x) = sin(x)\n",
      "[0 ; PI/2]\n",
      "Intégrale : 0\n",
      "\n",
      "f(x) = cos(x)\n",
      "[0 ; PI/2]\n",
      "Intégrale : 0\n",
      "\n",
      "f(x) = tan(x)\n",
      "[0 ; PI/4]\n",
      "Intégrale : 0\n",
      "\n",
      "f(x) = -2x + 5\n",
      "[0 ; 2.5]\n",
      "Intégrale : 0\n",
      "\n",
      "f(x) = -3x^2 + 5x - 1\n",
      "[0.25 ; 1.25]\n",
      "Intégrale : 0\n",
      "\n",
      "f(x) = x^3 + 2x^2 - 6x + 3\n",
      "[-3.5 ; 0.5]\n",
      "Intégrale : 0\n",
      "\n"
     ]
    }
   ],
   "source": [
    "def trapeze ( fonction, a, b, nb_trapezes ) :\n",
    "    return 0\n",
    "\n",
    "print ( \"*** Trapeze ***\" )\n",
    "test ( trapeze )"
   ]
  },
  {
   "cell_type": "markdown",
   "metadata": {
    "id": "u-2-XYOpWG6n"
   },
   "source": [
    "## Question 6 : Monte-Carlo"
   ]
  },
  {
   "cell_type": "code",
   "execution_count": 19,
   "metadata": {
    "colab": {
     "base_uri": "https://localhost:8080/"
    },
    "id": "L8mdhgzWWKon",
    "outputId": "d26a6fad-24d7-41ff-9db5-03a3e308d1df"
   },
   "outputs": [
    {
     "name": "stdout",
     "output_type": "stream",
     "text": [
      "*** Monte-Carlo ***\n",
      "\n",
      "f(x) = x\n",
      "[0 ; 2]\n",
      "Intégrale : 0\n",
      "\n",
      "f(x) = sin(x)\n",
      "[0 ; PI/2]\n",
      "Intégrale : 0\n",
      "\n",
      "f(x) = cos(x)\n",
      "[0 ; PI/2]\n",
      "Intégrale : 0\n",
      "\n",
      "f(x) = tan(x)\n",
      "[0 ; PI/4]\n",
      "Intégrale : 0\n",
      "\n",
      "f(x) = -2x + 5\n",
      "[0 ; 2.5]\n",
      "Intégrale : 0\n",
      "\n",
      "f(x) = -3x^2 + 5x - 1\n",
      "[0.25 ; 1.25]\n",
      "Intégrale : 0\n",
      "\n",
      "f(x) = x^3 + 2x^2 - 6x + 3\n",
      "[-3.5 ; 0.5]\n",
      "Intégrale : 0\n",
      "\n"
     ]
    }
   ],
   "source": [
    "# Renvoie un nombre décimal aléatoire compris entre a et b\n",
    "def aleatoire ( a, b ) :\n",
    "    return a + (b-a)*random()\n",
    "\n",
    "def monte_carlo ( fonction, a, b, nb_intervalles ) :\n",
    "    return 0\n",
    "\n",
    "print ( \"*** Monte-Carlo ***\")\n",
    "test ( monte_carlo )"
   ]
  },
  {
   "cell_type": "markdown",
   "metadata": {
    "id": "lbE1cXcHC_CS"
   },
   "source": [
    "# Synthèse\n",
    "\n",
    "Complétez ici l'explication ou le code de votre synthèse"
   ]
  }
 ],
 "metadata": {
  "colab": {
   "collapsed_sections": [
    "UUnoOL74KC3B",
    "V-RsN6w-TNPO"
   ],
   "provenance": [],
   "toc_visible": true
  },
  "kernelspec": {
   "display_name": "Python 3 (ipykernel)",
   "language": "python",
   "name": "python3"
  },
  "language_info": {
   "codemirror_mode": {
    "name": "ipython",
    "version": 3
   },
   "file_extension": ".py",
   "mimetype": "text/x-python",
   "name": "python",
   "nbconvert_exporter": "python",
   "pygments_lexer": "ipython3",
   "version": "3.10.2"
  }
 },
 "nbformat": 4,
 "nbformat_minor": 1
}
