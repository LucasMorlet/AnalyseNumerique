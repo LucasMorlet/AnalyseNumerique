{
  "nbformat": 4,
  "nbformat_minor": 0,
  "metadata": {
    "colab": {
      "provenance": [],
      "collapsed_sections": [
        "UUnoOL74KC3B",
        "V-RsN6w-TNPO"
      ],
      "toc_visible": true
    },
    "kernelspec": {
      "name": "python3",
      "display_name": "Python 3"
    },
    "language_info": {
      "name": "python"
    }
  },
  "cells": [
    {
      "cell_type": "markdown",
      "source": [
        "Modifiez le texte suivant en indiquent les deux membres du binôme \n",
        "\n",
        "- Prénom Nom n°1\n",
        "- Prénom Nom n°2"
      ],
      "metadata": {
        "id": "VSIrqDZGErh3"
      }
    },
    {
      "cell_type": "markdown",
      "source": [
        "# Exercice 1 : trouver les zéros"
      ],
      "metadata": {
        "id": "tWeconU4Qu9D"
      }
    },
    {
      "cell_type": "markdown",
      "source": [
        "### Code fourni\n",
        "/!\\ ne pas modifier /!\\"
      ],
      "metadata": {
        "id": "UUnoOL74KC3B"
      }
    },
    {
      "cell_type": "markdown",
      "source": [
        "Import du package \"math\" pour avoir accès aux fonctions trigonométriques et à la constante PI"
      ],
      "metadata": {
        "id": "AveaTKrHEapA"
      }
    },
    {
      "cell_type": "code",
      "source": [
        "from math import *\n",
        "\n",
        "epsilon = 10**(-15)\n",
        "pas = 0.1"
      ],
      "metadata": {
        "id": "fJvVP9Hn5mYA"
      },
      "execution_count": 5,
      "outputs": []
    },
    {
      "cell_type": "markdown",
      "source": [
        "La définition des fonctions mathématiques sur lesquelles la recherche de zéro sera effectuée"
      ],
      "metadata": {
        "id": "qKu55a4WE83v"
      }
    },
    {
      "cell_type": "code",
      "source": [
        "# Identité\n",
        "def identite ( x ) :\n",
        "    if ( isinstance ( x, float ) or isinstance ( x, int ) ) :\n",
        "        return x\n",
        "    else : \n",
        "        res = []\n",
        "        for i in range ( len ( x ) ) :\n",
        "            res.append ( x[i] )\n",
        "        return res\n",
        "    \n",
        "# Sinus\n",
        "def sinus ( x ) :\n",
        "    if ( isinstance ( x, float ) or isinstance ( x, int ) ) :\n",
        "        return sin(x)\n",
        "    else : \n",
        "        res = []\n",
        "        for i in range ( len ( x ) ) :\n",
        "            res.append ( sin( x[i] ) )\n",
        "        return res\n",
        "    \n",
        "# Cosinus  \n",
        "def cosinus ( x ) :\n",
        "    if ( isinstance ( x, float ) or isinstance ( x, int ) ) :\n",
        "        return cos(x)\n",
        "    else : \n",
        "        res = []\n",
        "        for i in range ( len ( x ) ) :\n",
        "            res.append ( cos( x[i] ) )\n",
        "        return res\n",
        "    \n",
        "# Tangente\n",
        "def tangente ( x ) :\n",
        "    if ( isinstance ( x, float ) or isinstance ( x, int ) ) :\n",
        "        return tan(x)\n",
        "    else : \n",
        "        res = []\n",
        "        for i in range ( len ( x ) ) :\n",
        "            res.append ( tan( x[i] ) )\n",
        "        return res\n",
        "    \n",
        "# Linéaire\n",
        "def lineaire ( x ) :\n",
        "    if ( isinstance ( x, float ) or isinstance ( x, int ) ) :\n",
        "        return -2*x + 5\n",
        "    else : \n",
        "        res = []\n",
        "        for i in range ( len ( x ) ) :\n",
        "            res.append ( lineaire( x[i] ) )\n",
        "        return res\n",
        "    \n",
        "# Quadratique \n",
        "def quadratique ( x ) :\n",
        "    if ( isinstance ( x, float ) or isinstance ( x, int ) ) :\n",
        "        return -3*x*x + 5*x - 1\n",
        "    else : \n",
        "        res = []\n",
        "        for i in range ( len ( x ) ) :\n",
        "            res.append ( quadratique( x[i] ) )\n",
        "        return res\n",
        "    \n",
        "# Cubique\n",
        "def cubique ( x ) :\n",
        "    if ( isinstance ( x, float ) or isinstance ( x, int ) ) :\n",
        "        return x*x*x + 2*x*x - 6*x + 3\n",
        "    else : \n",
        "        res = []\n",
        "        for i in range ( len ( x ) ) :\n",
        "            res.append ( cubique( x[i] ) )\n",
        "        return res"
      ],
      "metadata": {
        "id": "g9XCaKk034V6"
      },
      "execution_count": 6,
      "outputs": []
    },
    {
      "cell_type": "markdown",
      "source": [
        "Fonctions de test"
      ],
      "metadata": {
        "id": "brdQPrl5FyKr"
      }
    },
    {
      "cell_type": "code",
      "source": [
        "def testUnique ( methode ) :\n",
        "\n",
        "    # Identité\n",
        "    x = methode ( identite, -1, 1 )\n",
        "    print ( \"f(x) = x\" ) \n",
        "    print ( \"[-1 ; 1]\" ) \n",
        "    print ( \"x =\", x )\n",
        "    print ( \"f(x) =\", identite(x) )\n",
        "    print()\n",
        "\n",
        "    # Sinus\n",
        "    x = methode ( sinus, -pi/2, pi/2 )\n",
        "    print ( \"f(x) = sin(x)\" ) \n",
        "    print ( \"[-PI/2 ; PI/2]\" ) \n",
        "    print ( \"x =\", x )\n",
        "    print ( \"f(x) =\", sinus(x) )\n",
        "    print()\n",
        "\n",
        "    # Cosinus\n",
        "    x = methode ( cosinus, 0, pi )\n",
        "    print ( \"f(x) = cos(x)\" ) \n",
        "    print ( \"[0 ; PI]\" )\n",
        "    print ( \"x =\", x )\n",
        "    print ( \"f(x) =\", cosinus(x) )\n",
        "    print() \n",
        " \n",
        "    # Tangente\n",
        "    x = methode ( tangente, -pi/2, pi/2 )\n",
        "    print ( \"f(x) = tan(x)\" ) \n",
        "    print ( \"[-PI/2 ; PI/2]\" )\n",
        "    print ( \"x =\", x )\n",
        "    print ( \"f(x) =\", tangente(x) )\n",
        "    print()\n",
        "\n",
        "    # Linéaire\n",
        "    x = methode ( lineaire, 2, 3 )\n",
        "    print ( \"f(x) = -2x + 5\" )\n",
        "    print ( \"[2 ; 3]\" ) \n",
        "    print ( \"x =\", x )\n",
        "    print ( \"f(x) =\", lineaire(x) )\n",
        "    print()\n",
        "\n",
        "    # Quadratique\n",
        "    x = methode ( quadratique, 1, 2 )\n",
        "    print ( \"f(x) = -3*x^2 + 5x -1\" ) \n",
        "    print ( \"[1 ; 2]\" ) \n",
        "    print ( \"x =\", x )\n",
        "    print ( \"f(x) =\", quadratique(x) )\n",
        "    print()\n",
        "\n",
        "    # Cubique\n",
        "    x = methode ( cubique, -5, -3 )\n",
        "    print ( \"f(x) = x^3 + 2x^2 - 6x + 3 \" )  \n",
        "    print ( \"[-5 ; -3]\" )  \n",
        "    print ( \"x =\", x )\n",
        "    print ( \"f(x) =\", cubique(x) )\n",
        "    print()"
      ],
      "metadata": {
        "id": "QxzEGBTb7AUJ"
      },
      "execution_count": 7,
      "outputs": []
    },
    {
      "cell_type": "code",
      "source": [
        "def testMultiple ( methode ) :\n",
        "\n",
        "    # Identité\n",
        "    x = methode ( identite, -5, 5, pas )\n",
        "    print ( \"f(x) = x\" ) \n",
        "    print ( \"[-5 ; 5]\" ) \n",
        "    print ( \"x =\", x )\n",
        "    print ( \"f(x) =\", identite(x) )\n",
        "    print()\n",
        "\n",
        "    # Sinus\n",
        "    x = methode ( sinus, -5, 5, pas )\n",
        "    print ( \"f(x) = sin(x)\" ) \n",
        "    print ( \"[-5 ; 5]\" ) \n",
        "    print ( \"x =\", x )\n",
        "    print ( \"f(x) =\", sinus(x) )\n",
        "    print()\n",
        "\n",
        "    # Cosinus\n",
        "    x = methode ( cosinus, -5, 5, pas )\n",
        "    print ( \"f(x) = cos(x)\" ) \n",
        "    print ( \"[-5 ; 5]\" ) \n",
        "    print ( \"x =\", x )\n",
        "    print ( \"f(x) =\", cosinus(x) )\n",
        "    print() \n",
        " \n",
        "    # Tangente\n",
        "    print ( \"Pas d'étude de la tangente : la fonction est discontinue\\n\")\n",
        "\n",
        "    # Linéaire\n",
        "    x = methode ( lineaire, -5, 5, pas )\n",
        "    print ( \"f(x) = -2x + 5\" )\n",
        "    print ( \"[-5 ; 5]\" ) \n",
        "    print ( \"x =\", x )\n",
        "    print ( \"f(x) =\", lineaire(x) )\n",
        "    print()\n",
        "\n",
        "    # Quadratique\n",
        "    x = methode ( quadratique, -5, 5, pas )\n",
        "    print ( \"f(x) = -3*x^2 + 5x -1\" ) \n",
        "    print ( \"[-5 ; 5]\" ) \n",
        "    print ( \"x =\", x )\n",
        "    print ( \"f(x) =\", quadratique(x) )\n",
        "    print()\n",
        "\n",
        "    # Cubique\n",
        "    x = methode ( cubique, -5, 5, pas )\n",
        "    print ( \"f(x) = x^3 + 2x^2 - 6x + 3 \" )  \n",
        "    print ( \"[-5 ; 5]\" )   \n",
        "    print ( \"x =\", x )\n",
        "    print ( \"f(x) =\", cubique(x) )\n",
        "    print()"
      ],
      "metadata": {
        "id": "JGPUWBHxA6Cj"
      },
      "execution_count": 8,
      "outputs": []
    },
    {
      "cell_type": "markdown",
      "source": [
        "## Question 1 : calcul \"à la main\"\n",
        "\n",
        "Remplir ici les zéros trouvés pour chaque fonction"
      ],
      "metadata": {
        "id": "JVG11vxRLlUu"
      }
    },
    {
      "cell_type": "markdown",
      "source": [
        "## Question 2 : la méthode dichotomique"
      ],
      "metadata": {
        "id": "L8tJjudjAclA"
      }
    },
    {
      "cell_type": "code",
      "execution_count": 9,
      "metadata": {
        "id": "BMldAvk12G4E",
        "colab": {
          "base_uri": "https://localhost:8080/"
        },
        "outputId": "1ecebfbf-505f-4522-faa9-e6dd884df76c"
      },
      "outputs": [
        {
          "output_type": "stream",
          "name": "stdout",
          "text": [
            "*** Dichotomie ***\n",
            "\n",
            "f(x) = x\n",
            "[-1 ; 1]\n",
            "x = 0\n",
            "f(x) = 0\n",
            "\n",
            "f(x) = sin(x)\n",
            "[-PI/2 ; PI/2]\n",
            "x = 0\n",
            "f(x) = 0.0\n",
            "\n",
            "f(x) = cos(x)\n",
            "[0 ; PI]\n",
            "x = 0\n",
            "f(x) = 1.0\n",
            "\n",
            "f(x) = tan(x)\n",
            "[-PI/2 ; PI/2]\n",
            "x = 0\n",
            "f(x) = 0.0\n",
            "\n",
            "f(x) = -2x + 5\n",
            "[2 ; 3]\n",
            "x = 0\n",
            "f(x) = 5\n",
            "\n",
            "f(x) = -3*x^2 + 5x -1\n",
            "[1 ; 2]\n",
            "x = 0\n",
            "f(x) = -1\n",
            "\n",
            "f(x) = x^3 + 2x^2 - 6x + 3 \n",
            "[-5 ; -3]\n",
            "x = 0\n",
            "f(x) = 3\n",
            "\n"
          ]
        }
      ],
      "source": [
        "def dichotomie ( fonction, a, b ) :\n",
        "    return 0\n",
        "\n",
        "print ( \"*** Dichotomie ***\\n\" )\n",
        "testUnique ( dichotomie )"
      ]
    },
    {
      "cell_type": "markdown",
      "source": [
        "## Question 3 : la méthode de la sécante"
      ],
      "metadata": {
        "id": "_Ha9_xnPAliF"
      }
    },
    {
      "cell_type": "code",
      "source": [
        "def secante ( fonction, xn, b ) :\n",
        "    return 0\n",
        "\n",
        "print ( \"*** Sécante ***\\n\" )\n",
        "testUnique ( secante )"
      ],
      "metadata": {
        "id": "shJVNEcE32VW",
        "colab": {
          "base_uri": "https://localhost:8080/"
        },
        "outputId": "1691ef26-40ce-492d-d6cb-0b682149d148"
      },
      "execution_count": 10,
      "outputs": [
        {
          "output_type": "stream",
          "name": "stdout",
          "text": [
            "*** Sécante ***\n",
            "\n",
            "f(x) = x\n",
            "[-1 ; 1]\n",
            "x = 0\n",
            "f(x) = 0\n",
            "\n",
            "f(x) = sin(x)\n",
            "[-PI/2 ; PI/2]\n",
            "x = 0\n",
            "f(x) = 0.0\n",
            "\n",
            "f(x) = cos(x)\n",
            "[0 ; PI]\n",
            "x = 0\n",
            "f(x) = 1.0\n",
            "\n",
            "f(x) = tan(x)\n",
            "[-PI/2 ; PI/2]\n",
            "x = 0\n",
            "f(x) = 0.0\n",
            "\n",
            "f(x) = -2x + 5\n",
            "[2 ; 3]\n",
            "x = 0\n",
            "f(x) = 5\n",
            "\n",
            "f(x) = -3*x^2 + 5x -1\n",
            "[1 ; 2]\n",
            "x = 0\n",
            "f(x) = -1\n",
            "\n",
            "f(x) = x^3 + 2x^2 - 6x + 3 \n",
            "[-5 ; -3]\n",
            "x = 0\n",
            "f(x) = 3\n",
            "\n"
          ]
        }
      ]
    },
    {
      "cell_type": "markdown",
      "source": [
        "## Question 4 : recherche multiple"
      ],
      "metadata": {
        "id": "KOjg5lj4Aqa_"
      }
    },
    {
      "cell_type": "code",
      "source": [
        "def multiple ( fonction, u, v, pas ) :\n",
        "    return []\n",
        "\n",
        "print ( \"*** Recherche multiple *** \\n\")\n",
        "testMultiple ( multiple )"
      ],
      "metadata": {
        "id": "aoARU0Qu6Dyg",
        "colab": {
          "base_uri": "https://localhost:8080/"
        },
        "outputId": "756b146e-07be-4517-af15-27ba93ee12fc"
      },
      "execution_count": 11,
      "outputs": [
        {
          "output_type": "stream",
          "name": "stdout",
          "text": [
            "*** Recherche multiple *** \n",
            "\n",
            "f(x) = x\n",
            "[-5 ; 5]\n",
            "x = []\n",
            "f(x) = []\n",
            "\n",
            "f(x) = sin(x)\n",
            "[-5 ; 5]\n",
            "x = []\n",
            "f(x) = []\n",
            "\n",
            "f(x) = cos(x)\n",
            "[-5 ; 5]\n",
            "x = []\n",
            "f(x) = []\n",
            "\n",
            "Pas d'étude de la tangente : la fonction est discontinue\n",
            "\n",
            "f(x) = -2x + 5\n",
            "[-5 ; 5]\n",
            "x = []\n",
            "f(x) = []\n",
            "\n",
            "f(x) = -3*x^2 + 5x -1\n",
            "[-5 ; 5]\n",
            "x = []\n",
            "f(x) = []\n",
            "\n",
            "f(x) = x^3 + 2x^2 - 6x + 3 \n",
            "[-5 ; 5]\n",
            "x = []\n",
            "f(x) = []\n",
            "\n"
          ]
        }
      ]
    },
    {
      "cell_type": "markdown",
      "source": [
        "# Exercice 2 : Calcul d'intégrales"
      ],
      "metadata": {
        "id": "WMre_KyLRjgS"
      }
    },
    {
      "cell_type": "markdown",
      "source": [
        "### Code fourni\n",
        "/!\\ ne pas modifier /!\\"
      ],
      "metadata": {
        "id": "V-RsN6w-TNPO"
      }
    },
    {
      "cell_type": "markdown",
      "source": [
        "Import des packages et variable globale"
      ],
      "metadata": {
        "id": "VycLq_xmTb-F"
      }
    },
    {
      "cell_type": "code",
      "source": [
        "from math import *\n",
        "from random import *\n",
        "\n",
        "### Variables globales ###\n",
        "nb_elements = 100"
      ],
      "metadata": {
        "id": "FZLUPu2rTL5B"
      },
      "execution_count": 12,
      "outputs": []
    },
    {
      "cell_type": "markdown",
      "source": [
        "Fonctions mathématiques sur lesquelles les tests seront effectués"
      ],
      "metadata": {
        "id": "_0ttTzmjTu43"
      }
    },
    {
      "cell_type": "code",
      "source": [
        "# Identité\n",
        "def identite ( x ) :\n",
        "    return x\n",
        "    \n",
        "# Linéaire\n",
        "def lineaire ( x ) :\n",
        "    return -2*x + 5\n",
        "\n",
        "# Quadratique \n",
        "def quadratique ( x ) :\n",
        "    return -3*x*x + 5*x - 1\n",
        "    \n",
        "# Cubique\n",
        "def cubique ( x ) :\n",
        "    return x*x*x + 2*x*x - 6*x + 3"
      ],
      "metadata": {
        "id": "DqtMkkLTTCGx"
      },
      "execution_count": 13,
      "outputs": []
    },
    {
      "cell_type": "markdown",
      "source": [
        "Fonction de test"
      ],
      "metadata": {
        "id": "Lo__tv41Uzrn"
      }
    },
    {
      "cell_type": "code",
      "source": [
        "def test ( methode ) :\n",
        "    print()\n",
        "\n",
        "    # Identité\n",
        "    fonction = identite\n",
        "    a = 0\n",
        "    b = 2\n",
        "    print ( \"f(x) = x\" )\n",
        "    print ( \"[0 ; 2]\" )\n",
        "    print ( \"Intégrale :\", methode ( fonction, a, b, nb_elements ) )\n",
        "    print()\n",
        "\n",
        "    # Sinus\n",
        "    fonction = sin\n",
        "    a = 0\n",
        "    b = pi/2\n",
        "    print ( \"f(x) = sin(x)\" )\n",
        "    print ( \"[0 ; PI/2]\" )\n",
        "    print ( \"Intégrale :\", methode ( fonction, a, b, nb_elements ) )\n",
        "    print()\n",
        "\n",
        "    # Cosinus\n",
        "    fonction = cos\n",
        "    a = 0\n",
        "    b = pi/2\n",
        "    print ( \"f(x) = cos(x)\" )\n",
        "    print ( \"[0 ; PI/2]\" )\n",
        "    print ( \"Intégrale :\", methode ( fonction, a, b, nb_elements ) )\n",
        "    print()\n",
        "\n",
        "    # Tangente\n",
        "    fonction = tan\n",
        "    a = 0\n",
        "    b = pi/4\n",
        "    print ( \"f(x) = tan(x)\" )\n",
        "    print ( \"[0 ; PI/4]\" )\n",
        "    print ( \"Intégrale :\", methode ( fonction, a, b, nb_elements ) )\n",
        "    print()\n",
        "\n",
        "    # Linéaire\n",
        "    fonction = lineaire\n",
        "    a = 0\n",
        "    b = 2.5\n",
        "    print ( \"f(x) = -2x + 5\" )\n",
        "    print ( \"[0 ; 2.5]\" )\n",
        "    print ( \"Intégrale :\", methode ( fonction, a, b, nb_elements ) )\n",
        "    print()\n",
        "\n",
        "    # Quadratique\n",
        "    fonction = quadratique\n",
        "    a = 0.25\n",
        "    b = 1.25\n",
        "    print ( \"f(x) = -3x^2 + 5x - 1\" )\n",
        "    print ( \"[0.25 ; 1.25]\" )\n",
        "    print ( \"Intégrale :\", methode ( fonction, a, b, nb_elements ) )\n",
        "    print()\n",
        "\n",
        "    # Cubique\n",
        "    fonction = cubique\n",
        "    a = -3.5\n",
        "    b = 0.5\n",
        "    print ( \"f(x) = x^3 + 2x^2 - 6x + 3\" )\n",
        "    print ( \"[-3.5 ; 0.5]\" )\n",
        "    print ( \"Intégrale :\", methode ( fonction, a, b, nb_elements ) )\n",
        "    print()"
      ],
      "metadata": {
        "id": "pFQRc1z5UHyl"
      },
      "execution_count": 14,
      "outputs": []
    },
    {
      "cell_type": "markdown",
      "source": [
        "## Question 1 : calcul \"à la main\"\n",
        "\n",
        "Remplir ici les intégrales calculées"
      ],
      "metadata": {
        "id": "zQEAsbJ6VKn7"
      }
    },
    {
      "cell_type": "markdown",
      "source": [
        "## Question 2 : rectangle à droite"
      ],
      "metadata": {
        "id": "joBf6EEFVQAM"
      }
    },
    {
      "cell_type": "code",
      "source": [
        "def rectangle_a_droite ( fonction, a, b, nb_rectangles ) :\n",
        "    return 0\n",
        "\n",
        "print ( \"*** Rectangle à droite ***\")\n",
        "test ( rectangle_a_droite )"
      ],
      "metadata": {
        "colab": {
          "base_uri": "https://localhost:8080/"
        },
        "id": "10G91HJaV6Tj",
        "outputId": "5999d23c-1f3b-42ba-d632-6038d5ba529d"
      },
      "execution_count": 15,
      "outputs": [
        {
          "output_type": "stream",
          "name": "stdout",
          "text": [
            "*** Rectangle à droite ***\n",
            "\n",
            "f(x) = x\n",
            "[0 ; 2]\n",
            "Intégrale : 0\n",
            "\n",
            "f(x) = sin(x)\n",
            "[0 ; PI/2]\n",
            "Intégrale : 0\n",
            "\n",
            "f(x) = cos(x)\n",
            "[0 ; PI/2]\n",
            "Intégrale : 0\n",
            "\n",
            "f(x) = tan(x)\n",
            "[0 ; PI/4]\n",
            "Intégrale : 0\n",
            "\n",
            "f(x) = -2x + 5\n",
            "[0 ; 2.5]\n",
            "Intégrale : 0\n",
            "\n",
            "f(x) = -3x^2 + 5x - 1\n",
            "[0.25 ; 1.25]\n",
            "Intégrale : 0\n",
            "\n",
            "f(x) = x^3 + 2x^2 - 6x + 3\n",
            "[-3.5 ; 0.5]\n",
            "Intégrale : 0\n",
            "\n"
          ]
        }
      ]
    },
    {
      "cell_type": "markdown",
      "source": [
        "## Question 3 : rectangle à gauche"
      ],
      "metadata": {
        "id": "P0bpB4SsV0IZ"
      }
    },
    {
      "cell_type": "code",
      "source": [
        "def rectangle_a_gauche ( fonction, a, b, nb_rectangles ) :\n",
        "    return 0\n",
        "\n",
        "print ( \"*** Rectangle à gauche ***\")\n",
        "test ( rectangle_a_gauche )"
      ],
      "metadata": {
        "colab": {
          "base_uri": "https://localhost:8080/"
        },
        "id": "GnjBa0ePV5Vn",
        "outputId": "f718082d-ba5c-4408-9d9a-3954ccde6056"
      },
      "execution_count": 16,
      "outputs": [
        {
          "output_type": "stream",
          "name": "stdout",
          "text": [
            "*** Rectangle à gauche ***\n",
            "\n",
            "f(x) = x\n",
            "[0 ; 2]\n",
            "Intégrale : 0\n",
            "\n",
            "f(x) = sin(x)\n",
            "[0 ; PI/2]\n",
            "Intégrale : 0\n",
            "\n",
            "f(x) = cos(x)\n",
            "[0 ; PI/2]\n",
            "Intégrale : 0\n",
            "\n",
            "f(x) = tan(x)\n",
            "[0 ; PI/4]\n",
            "Intégrale : 0\n",
            "\n",
            "f(x) = -2x + 5\n",
            "[0 ; 2.5]\n",
            "Intégrale : 0\n",
            "\n",
            "f(x) = -3x^2 + 5x - 1\n",
            "[0.25 ; 1.25]\n",
            "Intégrale : 0\n",
            "\n",
            "f(x) = x^3 + 2x^2 - 6x + 3\n",
            "[-3.5 ; 0.5]\n",
            "Intégrale : 0\n",
            "\n"
          ]
        }
      ]
    },
    {
      "cell_type": "markdown",
      "source": [
        "## Question 4 : rectangle au milieu"
      ],
      "metadata": {
        "id": "Pgww_boAV7Dn"
      }
    },
    {
      "cell_type": "code",
      "source": [
        "def rectangle_au_milieu ( fonction, a, b, nb_rectangles ) :\n",
        "    return 0\n",
        "\n",
        "print ( \"*** Rectangle au milieu ***\")\n",
        "test ( rectangle_au_milieu )"
      ],
      "metadata": {
        "colab": {
          "base_uri": "https://localhost:8080/"
        },
        "id": "QkP8B9-uWAIi",
        "outputId": "b4f04fac-f3f4-4616-90b5-124ec33e4021"
      },
      "execution_count": 17,
      "outputs": [
        {
          "output_type": "stream",
          "name": "stdout",
          "text": [
            "*** Rectangle au milieu ***\n",
            "\n",
            "f(x) = x\n",
            "[0 ; 2]\n",
            "Intégrale : 0\n",
            "\n",
            "f(x) = sin(x)\n",
            "[0 ; PI/2]\n",
            "Intégrale : 0\n",
            "\n",
            "f(x) = cos(x)\n",
            "[0 ; PI/2]\n",
            "Intégrale : 0\n",
            "\n",
            "f(x) = tan(x)\n",
            "[0 ; PI/4]\n",
            "Intégrale : 0\n",
            "\n",
            "f(x) = -2x + 5\n",
            "[0 ; 2.5]\n",
            "Intégrale : 0\n",
            "\n",
            "f(x) = -3x^2 + 5x - 1\n",
            "[0.25 ; 1.25]\n",
            "Intégrale : 0\n",
            "\n",
            "f(x) = x^3 + 2x^2 - 6x + 3\n",
            "[-3.5 ; 0.5]\n",
            "Intégrale : 0\n",
            "\n"
          ]
        }
      ]
    },
    {
      "cell_type": "markdown",
      "source": [
        "## Question 5 : trapèze"
      ],
      "metadata": {
        "id": "QUl0B9QKWAlv"
      }
    },
    {
      "cell_type": "code",
      "source": [
        "def trapeze ( fonction, a, b, nb_trapezes ) :\n",
        "    return 0\n",
        "\n",
        "print ( \"*** Trapeze ***\" )\n",
        "test ( trapeze )"
      ],
      "metadata": {
        "colab": {
          "base_uri": "https://localhost:8080/"
        },
        "id": "htVnRgJhWGd-",
        "outputId": "c7dd338d-48da-4273-c9c3-299ecdad00c1"
      },
      "execution_count": 18,
      "outputs": [
        {
          "output_type": "stream",
          "name": "stdout",
          "text": [
            "*** Trapeze ***\n",
            "\n",
            "f(x) = x\n",
            "[0 ; 2]\n",
            "Intégrale : 0\n",
            "\n",
            "f(x) = sin(x)\n",
            "[0 ; PI/2]\n",
            "Intégrale : 0\n",
            "\n",
            "f(x) = cos(x)\n",
            "[0 ; PI/2]\n",
            "Intégrale : 0\n",
            "\n",
            "f(x) = tan(x)\n",
            "[0 ; PI/4]\n",
            "Intégrale : 0\n",
            "\n",
            "f(x) = -2x + 5\n",
            "[0 ; 2.5]\n",
            "Intégrale : 0\n",
            "\n",
            "f(x) = -3x^2 + 5x - 1\n",
            "[0.25 ; 1.25]\n",
            "Intégrale : 0\n",
            "\n",
            "f(x) = x^3 + 2x^2 - 6x + 3\n",
            "[-3.5 ; 0.5]\n",
            "Intégrale : 0\n",
            "\n"
          ]
        }
      ]
    },
    {
      "cell_type": "markdown",
      "source": [
        "## Question 6 : Monte-Carlo"
      ],
      "metadata": {
        "id": "u-2-XYOpWG6n"
      }
    },
    {
      "cell_type": "code",
      "source": [
        "# Renvoie un nombre décimal aléatoire compris entre a et b\n",
        "def aleatoire ( a, b ) :\n",
        "    return a + (b-a)*random()\n",
        "\n",
        "def monte_carlo ( fonction, a, b, nb_intervalles ) :\n",
        "    return 0\n",
        "\n",
        "print ( \"*** Monte-Carlo ***\")\n",
        "test ( monte_carlo )"
      ],
      "metadata": {
        "colab": {
          "base_uri": "https://localhost:8080/"
        },
        "id": "L8mdhgzWWKon",
        "outputId": "d26a6fad-24d7-41ff-9db5-03a3e308d1df"
      },
      "execution_count": 19,
      "outputs": [
        {
          "output_type": "stream",
          "name": "stdout",
          "text": [
            "*** Monte-Carlo ***\n",
            "\n",
            "f(x) = x\n",
            "[0 ; 2]\n",
            "Intégrale : 0\n",
            "\n",
            "f(x) = sin(x)\n",
            "[0 ; PI/2]\n",
            "Intégrale : 0\n",
            "\n",
            "f(x) = cos(x)\n",
            "[0 ; PI/2]\n",
            "Intégrale : 0\n",
            "\n",
            "f(x) = tan(x)\n",
            "[0 ; PI/4]\n",
            "Intégrale : 0\n",
            "\n",
            "f(x) = -2x + 5\n",
            "[0 ; 2.5]\n",
            "Intégrale : 0\n",
            "\n",
            "f(x) = -3x^2 + 5x - 1\n",
            "[0.25 ; 1.25]\n",
            "Intégrale : 0\n",
            "\n",
            "f(x) = x^3 + 2x^2 - 6x + 3\n",
            "[-3.5 ; 0.5]\n",
            "Intégrale : 0\n",
            "\n"
          ]
        }
      ]
    },
    {
      "cell_type": "markdown",
      "source": [
        "# Synthèse\n",
        "\n",
        "Complétez ici l'explication ou le code de votre synthèse"
      ],
      "metadata": {
        "id": "lbE1cXcHC_CS"
      }
    }
  ]
}