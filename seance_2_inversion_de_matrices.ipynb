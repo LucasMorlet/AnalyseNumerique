{
  "cells": [
    {
      "cell_type": "markdown",
      "id": "fbf41f08",
      "metadata": {
        "id": "fbf41f08"
      },
      "source": [
        "# Exercice 1 : trouver les antécédents"
      ]
    },
    {
      "cell_type": "markdown",
      "id": "f7e0c787",
      "metadata": {
        "id": "f7e0c787"
      },
      "source": [
        "### Code fourni\n",
        "/!\\ ne pas modifier /!\\"
      ]
    },
    {
      "cell_type": "markdown",
      "id": "e87f149b",
      "metadata": {
        "id": "e87f149b"
      },
      "source": [
        "Import du package \"Numpy\" pour avoir accès au produit matriciel et produit matrice/vecteur"
      ]
    },
    {
      "cell_type": "code",
      "execution_count": 22,
      "id": "745a1529",
      "metadata": {
        "id": "745a1529"
      },
      "outputs": [],
      "source": [
        "import numpy as np"
      ]
    },
    {
      "cell_type": "markdown",
      "id": "a3f7de6d",
      "metadata": {
        "id": "a3f7de6d"
      },
      "source": [
        "Les matrices et leur images qui serviront pour les tests (pour chaque cas : deux matrices 3x3 et une matrice 4x4)"
      ]
    },
    {
      "cell_type": "code",
      "execution_count": 23,
      "id": "cae6eaa7",
      "metadata": {
        "id": "cae6eaa7"
      },
      "outputs": [],
      "source": [
        "matrices_diag = []\n",
        "matrices_diag.append(np.array([[ 4.2, 0, 0 ],[0, 1.4, 0], [0, 0, 2.3]]))\n",
        "matrices_diag.append(np.array([[ -1.6, 0, 0 ],[0, 8.1, 0], [0, 0, -3.1]]))\n",
        "matrices_diag.append(np.array([[ -7.1, 0, 0, 0 ],[0, 6.8, 0, 0], [0, 0, -2.1, 0], [0, 0, 0, 9.1]]))\n",
        "\n",
        "matrices_sup = []\n",
        "matrices_sup.append(np.array([[ 4.2, 1.1, 7.3 ],[0, 1.4, 2.4], [ 0, 0, 2.3]]))\n",
        "matrices_sup.append(np.array([[ 1.1, -6.7, 9.3 ],[0, -4.3, 0.2], [ 0, 0, -3.4]]))\n",
        "matrices_sup.append(np.array([[ 5.7, 5.6, -5.3, 6.0 ],[ 0, -1.6, 4.7, 1.5], [0, 0, -7.3, 3.2], [0, 0, 0, 1.8]]))\n",
        "\n",
        "matrices_inf = []\n",
        "matrices_inf.append(np.array([[ 6.6, 0, 0 ],[ 0.1, 1.2, 0], [ 5.6, 5.9, 9.0 ]]))\n",
        "matrices_inf.append(np.array([[ 7.7, 0, 0 ], [ 4.1, 3.3, 0 ], [ 3.1, 5.3, 6.9]]))\n",
        "matrices_inf.append(np.array([[ -1.9, 0, 0, 0 ],[5.2, 8.9, 0, 0], [-7.9, 3.6, -9.8, 0], [8.4, -1.5, -7.6, 0.9]]))\n",
        "\n",
        "matrices = []\n",
        "matrices.append( np.array([[ 3.6, 2.1, 5.5 ],[1.7, 1.3, 2.4], [ 7.1, 6.8, 2.3]]) )\n",
        "matrices.append( np.array([[ 2.2, 4.1, 1.9 ], [ -1.7, -3.0, 1.6 ], [ 4.5, -7.4, 2.1 ]]) )\n",
        "matrices.append(np.array([[ -0.7, 6.0, -9.1, 4.2 ],[4.2, 2.8, -4.7, 3.9], [-2.5, 4.3, -9.3, 3.9], [-5.7, 2.0, 5.3, -9.9]]))\n",
        "\n",
        "images = []\n",
        "images.append(np.array([ 4.2, 1.4, 2.3 ]))\n",
        "images.append(np.array([ 0.4, -1.5, 1.6 ]))\n",
        "images.append(np.array([ 0.7, -6.0, -5.7, 1.6 ]))"
      ]
    },
    {
      "cell_type": "markdown",
      "id": "dd028963",
      "metadata": {
        "id": "dd028963"
      },
      "source": [
        "Les fonctions de test"
      ]
    },
    {
      "cell_type": "code",
      "execution_count": 24,
      "id": "a961b97a",
      "metadata": {
        "id": "a961b97a"
      },
      "outputs": [],
      "source": [
        "def test ( fonction, A, b ) :\n",
        "    x = fonction ( np.copy(A), np.copy(b) )\n",
        "    res = np.dot ( A, x )\n",
        "    print ( b )\n",
        "    erreur = 0\n",
        "    for i in range ( len(b) ) :\n",
        "        erreur += abs ( res[i]-b[i] )\n",
        "    if ( erreur < 0.0001 ) :\n",
        "        print ( \"    =\" )\n",
        "    else :\n",
        "        print ( \"    !=\" )\n",
        "    print ( A )\n",
        "    print ( \"    *\" )\n",
        "    print ( x )   \n",
        "    print()  \n",
        "\n",
        "def test_multiple ( fonction, liste_matrices, listes_images ) :\n",
        "    for i in range ( len ( liste_matrices ) ) :\n",
        "        print ( \"Test numéro\", (i+1), \":\\n\" )\n",
        "        test ( fonction, liste_matrices[i], listes_images[i] )"
      ]
    },
    {
      "cell_type": "markdown",
      "id": "9f4e2ba6",
      "metadata": {
        "id": "9f4e2ba6"
      },
      "source": [
        "## Question 1 : matrices diagonales"
      ]
    },
    {
      "cell_type": "code",
      "execution_count": 25,
      "id": "76311373",
      "metadata": {
        "colab": {
          "base_uri": "https://localhost:8080/"
        },
        "id": "76311373",
        "outputId": "cd20b96a-e3fe-45b3-d756-f9ffd44bfc06"
      },
      "outputs": [
        {
          "output_type": "stream",
          "name": "stdout",
          "text": [
            "***** Diagonale *****\n",
            "\n",
            "Test numéro 1 :\n",
            "\n",
            "[4.2 1.4 2.3]\n",
            "    !=\n",
            "[[4.2 0.  0. ]\n",
            " [0.  1.4 0. ]\n",
            " [0.  0.  2.3]]\n",
            "    *\n",
            "[0. 0. 0.]\n",
            "\n",
            "Test numéro 2 :\n",
            "\n",
            "[ 0.4 -1.5  1.6]\n",
            "    !=\n",
            "[[-1.6  0.   0. ]\n",
            " [ 0.   8.1  0. ]\n",
            " [ 0.   0.  -3.1]]\n",
            "    *\n",
            "[0. 0. 0.]\n",
            "\n",
            "Test numéro 3 :\n",
            "\n",
            "[ 0.7 -6.  -5.7  1.6]\n",
            "    !=\n",
            "[[-7.1  0.   0.   0. ]\n",
            " [ 0.   6.8  0.   0. ]\n",
            " [ 0.   0.  -2.1  0. ]\n",
            " [ 0.   0.   0.   9.1]]\n",
            "    *\n",
            "[0. 0. 0. 0.]\n",
            "\n"
          ]
        }
      ],
      "source": [
        "def resolution_diagonale ( A, b ) :\n",
        "    antecedent = np.array([0.0]*len(A))\n",
        "    # Ajoutez ici le calcul de l'antécédent\n",
        "    return antecedent\n",
        "\n",
        "print(\"***** Diagonale *****\\n\")\n",
        "test_multiple ( resolution_diagonale, matrices_diag, images )"
      ]
    },
    {
      "cell_type": "markdown",
      "id": "441c7e09",
      "metadata": {
        "id": "441c7e09"
      },
      "source": [
        "## Question 2a : matrices triangulaires inférieures"
      ]
    },
    {
      "cell_type": "code",
      "execution_count": 26,
      "id": "4f0cedf0",
      "metadata": {
        "colab": {
          "base_uri": "https://localhost:8080/"
        },
        "id": "4f0cedf0",
        "outputId": "0d2e7c7c-ea39-4caa-e866-d669a64618ea"
      },
      "outputs": [
        {
          "output_type": "stream",
          "name": "stdout",
          "text": [
            "***** Triangulaire inférieure *****\n",
            "\n",
            "Test numéro 1 :\n",
            "\n",
            "[4.2 1.4 2.3]\n",
            "    !=\n",
            "[[6.6 0.  0. ]\n",
            " [0.1 1.2 0. ]\n",
            " [5.6 5.9 9. ]]\n",
            "    *\n",
            "[0. 0. 0.]\n",
            "\n",
            "Test numéro 2 :\n",
            "\n",
            "[ 0.4 -1.5  1.6]\n",
            "    !=\n",
            "[[7.7 0.  0. ]\n",
            " [4.1 3.3 0. ]\n",
            " [3.1 5.3 6.9]]\n",
            "    *\n",
            "[0. 0. 0.]\n",
            "\n",
            "Test numéro 3 :\n",
            "\n",
            "[ 0.7 -6.  -5.7  1.6]\n",
            "    !=\n",
            "[[-1.9  0.   0.   0. ]\n",
            " [ 5.2  8.9  0.   0. ]\n",
            " [-7.9  3.6 -9.8  0. ]\n",
            " [ 8.4 -1.5 -7.6  0.9]]\n",
            "    *\n",
            "[0. 0. 0. 0.]\n",
            "\n"
          ]
        }
      ],
      "source": [
        "def resolution_inferieure ( A, b ) :\n",
        "    antecedent = np.array([0.0]*len(A))\n",
        "    # Ajoutez ici le calcul de l'antécédent\n",
        "    return antecedent\n",
        "\n",
        "print(\"***** Triangulaire inférieure *****\\n\")\n",
        "test_multiple ( resolution_inferieure, matrices_inf, images )"
      ]
    },
    {
      "cell_type": "markdown",
      "id": "a55cf589",
      "metadata": {
        "id": "a55cf589"
      },
      "source": [
        "## Question 2b : matrices triangulaires supérieures"
      ]
    },
    {
      "cell_type": "code",
      "execution_count": 27,
      "id": "14e20cff",
      "metadata": {
        "colab": {
          "base_uri": "https://localhost:8080/"
        },
        "id": "14e20cff",
        "outputId": "9987ab42-278a-499c-a174-18ac9b032aae"
      },
      "outputs": [
        {
          "output_type": "stream",
          "name": "stdout",
          "text": [
            "***** Triangulaire supérieure *****\n",
            "\n",
            "Test numéro 1 :\n",
            "\n",
            "[4.2 1.4 2.3]\n",
            "    !=\n",
            "[[4.2 1.1 7.3]\n",
            " [0.  1.4 2.4]\n",
            " [0.  0.  2.3]]\n",
            "    *\n",
            "[0. 0. 0.]\n",
            "\n",
            "Test numéro 2 :\n",
            "\n",
            "[ 0.4 -1.5  1.6]\n",
            "    !=\n",
            "[[ 1.1 -6.7  9.3]\n",
            " [ 0.  -4.3  0.2]\n",
            " [ 0.   0.  -3.4]]\n",
            "    *\n",
            "[0. 0. 0.]\n",
            "\n",
            "Test numéro 3 :\n",
            "\n",
            "[ 0.7 -6.  -5.7  1.6]\n",
            "    !=\n",
            "[[ 5.7  5.6 -5.3  6. ]\n",
            " [ 0.  -1.6  4.7  1.5]\n",
            " [ 0.   0.  -7.3  3.2]\n",
            " [ 0.   0.   0.   1.8]]\n",
            "    *\n",
            "[0. 0. 0. 0.]\n",
            "\n"
          ]
        }
      ],
      "source": [
        "def resolution_superieure ( A, b ) :\n",
        "    antecedent = np.array([0.0]*len(A))\n",
        "    # Ajoutez ici le calcul de l'antécédent\n",
        "    return antecedent\n",
        "\n",
        "print(\"***** Triangulaire supérieure *****\\n\")\n",
        "test_multiple ( resolution_superieure, matrices_sup, images )"
      ]
    },
    {
      "cell_type": "markdown",
      "id": "b63d7292",
      "metadata": {
        "id": "b63d7292"
      },
      "source": [
        "## Question 3 : résolution de Gauss"
      ]
    },
    {
      "cell_type": "code",
      "execution_count": 28,
      "id": "bfefa352",
      "metadata": {
        "colab": {
          "base_uri": "https://localhost:8080/"
        },
        "id": "bfefa352",
        "outputId": "bcca7b07-a121-436c-9d7f-24c6b0b7d076"
      },
      "outputs": [
        {
          "output_type": "stream",
          "name": "stdout",
          "text": [
            "***** Pivot de Gauss *****\n",
            "\n",
            "Test numéro 1 :\n",
            "\n",
            "[4.2 1.4 2.3]\n",
            "    !=\n",
            "[[3.6 2.1 5.5]\n",
            " [1.7 1.3 2.4]\n",
            " [7.1 6.8 2.3]]\n",
            "    *\n",
            "[0. 0. 0.]\n",
            "\n",
            "Test numéro 2 :\n",
            "\n",
            "[ 0.4 -1.5  1.6]\n",
            "    !=\n",
            "[[ 2.2  4.1  1.9]\n",
            " [-1.7 -3.   1.6]\n",
            " [ 4.5 -7.4  2.1]]\n",
            "    *\n",
            "[0. 0. 0.]\n",
            "\n",
            "Test numéro 3 :\n",
            "\n",
            "[ 0.7 -6.  -5.7  1.6]\n",
            "    !=\n",
            "[[-0.7  6.  -9.1  4.2]\n",
            " [ 4.2  2.8 -4.7  3.9]\n",
            " [-2.5  4.3 -9.3  3.9]\n",
            " [-5.7  2.   5.3 -9.9]]\n",
            "    *\n",
            "[0. 0. 0. 0.]\n",
            "\n"
          ]
        }
      ],
      "source": [
        "def resolution_gauss ( A, b ) :\n",
        "    antecedent = np.array([0.0]*len(A))\n",
        "    # Ajoutez ici le calcul de l'antécédent\n",
        "    return antecedent\n",
        "\n",
        "print(\"***** Pivot de Gauss *****\\n\")\n",
        "test_multiple ( resolution_gauss, matrices, images )"
      ]
    },
    {
      "cell_type": "markdown",
      "id": "34355d39",
      "metadata": {
        "id": "34355d39"
      },
      "source": [
        "## Question 4 : résolution lower-upper"
      ]
    },
    {
      "cell_type": "code",
      "execution_count": 29,
      "id": "c960c4e5",
      "metadata": {
        "colab": {
          "base_uri": "https://localhost:8080/"
        },
        "id": "c960c4e5",
        "outputId": "693d4b8b-24fb-40dc-c907-35668842b121"
      },
      "outputs": [
        {
          "output_type": "stream",
          "name": "stdout",
          "text": [
            "***** Méthode LU *****\n",
            "\n",
            "Test numéro 1 :\n",
            "\n",
            "[4.2 1.4 2.3]\n",
            "    !=\n",
            "[[3.6 2.1 5.5]\n",
            " [1.7 1.3 2.4]\n",
            " [7.1 6.8 2.3]]\n",
            "    *\n",
            "[0. 0. 0.]\n",
            "\n",
            "Test numéro 2 :\n",
            "\n",
            "[ 0.4 -1.5  1.6]\n",
            "    !=\n",
            "[[ 2.2  4.1  1.9]\n",
            " [-1.7 -3.   1.6]\n",
            " [ 4.5 -7.4  2.1]]\n",
            "    *\n",
            "[0. 0. 0.]\n",
            "\n",
            "Test numéro 3 :\n",
            "\n",
            "[ 0.7 -6.  -5.7  1.6]\n",
            "    !=\n",
            "[[-0.7  6.  -9.1  4.2]\n",
            " [ 4.2  2.8 -4.7  3.9]\n",
            " [-2.5  4.3 -9.3  3.9]\n",
            " [-5.7  2.   5.3 -9.9]]\n",
            "    *\n",
            "[0. 0. 0. 0.]\n",
            "\n"
          ]
        }
      ],
      "source": [
        "def resolution_LU ( A, b ) :\n",
        "    antecedent = np.array([0.0]*len(A))\n",
        "    # Ajoutez ici le calcul de l'antécédent\n",
        "    return antecedent\n",
        "\n",
        "print(\"***** Méthode LU *****\\n\")\n",
        "test_multiple ( resolution_LU, matrices, images )"
      ]
    },
    {
      "cell_type": "markdown",
      "id": "c15f9b9d",
      "metadata": {
        "id": "c15f9b9d"
      },
      "source": [
        "# Exercice 2 : inversion de matrices"
      ]
    },
    {
      "cell_type": "markdown",
      "id": "84a0047d",
      "metadata": {
        "id": "84a0047d"
      },
      "source": [
        "### Code fourni\n",
        "/!\\ ne pas modifier /!\\"
      ]
    },
    {
      "cell_type": "markdown",
      "id": "d2bc3b9c",
      "metadata": {
        "id": "d2bc3b9c"
      },
      "source": [
        "Import du package \"Numpy\" pour avoir accès au produit matriciel et produit matrice/vecteur"
      ]
    },
    {
      "cell_type": "code",
      "execution_count": 30,
      "id": "698b455d",
      "metadata": {
        "id": "698b455d"
      },
      "outputs": [],
      "source": [
        "import numpy as np"
      ]
    },
    {
      "cell_type": "markdown",
      "id": "a6aba535",
      "metadata": {
        "id": "a6aba535"
      },
      "source": [
        "Les matrices qui serviront pour les tests (pour chaque cas : deux matrices 3x3 et une matrice 4x4)"
      ]
    },
    {
      "cell_type": "code",
      "execution_count": 31,
      "id": "4d709fe6",
      "metadata": {
        "id": "4d709fe6"
      },
      "outputs": [],
      "source": [
        "matrices_diag = []\n",
        "matrices_diag.append(np.array([[ 4.2, 0, 0 ],[0, 1.4, 0], [0, 0, 2.3]]))\n",
        "matrices_diag.append(np.array([[ -1.6, 0, 0 ],[0, 8.1, 0], [0, 0, -3.1]]))\n",
        "matrices_diag.append(np.array([[ -7.1, 0, 0, 0 ],[0, 6.8, 0, 0], [0, 0, -2.1, 0], [0, 0, 0, 9.1]]))\n",
        "\n",
        "matrices_sup = []\n",
        "matrices_sup.append(np.array([[ 4.2, 1.1, 7.3 ],[0, 1.4, 2.4], [ 0, 0, 2.3]]))\n",
        "matrices_sup.append(np.array([[ 1.1, -6.7, 9.3 ],[0, -4.3, 0.2], [ 0, 0, -3.4]]))\n",
        "matrices_sup.append(np.array([[ 5.7, 5.6, -5.3, 6.0 ],[ 0, -1.6, 4.7, 1.5], [0, 0, -7.3, 3.2], [0, 0, 0, 1.8]]))\n",
        "\n",
        "matrices_inf = []\n",
        "matrices_inf.append(np.array([[ 6.6, 0, 0 ],[ 0.1, 1.2, 0], [ 5.6, 5.9, 9.0 ]]))\n",
        "matrices_inf.append(np.array([[ 7.7, 0, 0 ], [ 4.1, 3.3, 0 ], [ 3.1, 5.3, 6.9]]))\n",
        "matrices_inf.append(np.array([[ -1.9, 0, 0, 0 ],[5.2, 8.9, 0, 0], [-7.9, 3.6, -9.8, 0], [8.4, -1.5, -7.6, 0.9]]))\n",
        "\n",
        "matrices = []\n",
        "matrices.append( np.array([[ 3.6, 2.1, 5.5 ],[1.7, 1.3, 2.4], [ 7.1, 6.8, 2.3]]) )\n",
        "matrices.append( np.array([[ 2.2, 4.1, 1.9 ], [ -1.7, -3.0, 1.6 ], [ 4.5, -7.4, 2.1 ]]) )\n",
        "matrices.append(np.array([[ -0.7, 6.0, -9.1, 4.2 ],[4.2, 2.8, -4.7, 3.9], [-2.5, 4.3, -9.3, 3.9], [-5.7, 2.0, 5.3, -9.9]]))\n"
      ]
    },
    {
      "cell_type": "markdown",
      "id": "a1e8c63d",
      "metadata": {
        "id": "a1e8c63d"
      },
      "source": [
        "Les fonctions de test"
      ]
    },
    {
      "cell_type": "code",
      "execution_count": 32,
      "id": "8cebab15",
      "metadata": {
        "id": "8cebab15"
      },
      "outputs": [],
      "source": [
        "def test ( fonction, A ) :\n",
        "    inv = fonction ( np.copy(A) )\n",
        "    res = np.dot ( A, inv )\n",
        "    eye = np.eye ( len(A) )\n",
        "    print ( eye )\n",
        "    erreur = 0\n",
        "    for i in range ( len(A) ) :\n",
        "        for j in range ( len (A) ) :\n",
        "            erreur += abs ( eye[i][j]-res[i][j] )\n",
        "    if ( erreur < 0.0001 ) :\n",
        "        print ( \"    =\" )\n",
        "    else :\n",
        "        print ( \"    !=\" )\n",
        "    print ( A )\n",
        "    print ( \"    *\" )\n",
        "    print ( inv )   \n",
        "    print()  \n",
        "\n",
        "def test_multiple ( fonction, liste_matrices ) :\n",
        "    for i in range ( len ( liste_matrices ) ) :\n",
        "        print ( \"Test numéro\", (i+1), \":\\n\" )\n",
        "        test ( fonction, liste_matrices[i] )"
      ]
    },
    {
      "cell_type": "markdown",
      "id": "db905d34",
      "metadata": {
        "id": "db905d34"
      },
      "source": [
        "## Question 1 : matrices diagonales"
      ]
    },
    {
      "cell_type": "code",
      "execution_count": 33,
      "id": "e7fa3995",
      "metadata": {
        "colab": {
          "base_uri": "https://localhost:8080/"
        },
        "id": "e7fa3995",
        "outputId": "e0772ef8-06a7-4f2e-98b1-4f3cfd9288b2"
      },
      "outputs": [
        {
          "output_type": "stream",
          "name": "stdout",
          "text": [
            "***** Diagonale *****\n",
            "\n",
            "Test numéro 1 :\n",
            "\n",
            "[[1. 0. 0.]\n",
            " [0. 1. 0.]\n",
            " [0. 0. 1.]]\n",
            "    !=\n",
            "[[4.2 0.  0. ]\n",
            " [0.  1.4 0. ]\n",
            " [0.  0.  2.3]]\n",
            "    *\n",
            "[[0. 0. 0.]\n",
            " [0. 0. 0.]\n",
            " [0. 0. 0.]]\n",
            "\n",
            "Test numéro 2 :\n",
            "\n",
            "[[1. 0. 0.]\n",
            " [0. 1. 0.]\n",
            " [0. 0. 1.]]\n",
            "    !=\n",
            "[[-1.6  0.   0. ]\n",
            " [ 0.   8.1  0. ]\n",
            " [ 0.   0.  -3.1]]\n",
            "    *\n",
            "[[0. 0. 0.]\n",
            " [0. 0. 0.]\n",
            " [0. 0. 0.]]\n",
            "\n",
            "Test numéro 3 :\n",
            "\n",
            "[[1. 0. 0. 0.]\n",
            " [0. 1. 0. 0.]\n",
            " [0. 0. 1. 0.]\n",
            " [0. 0. 0. 1.]]\n",
            "    !=\n",
            "[[-7.1  0.   0.   0. ]\n",
            " [ 0.   6.8  0.   0. ]\n",
            " [ 0.   0.  -2.1  0. ]\n",
            " [ 0.   0.   0.   9.1]]\n",
            "    *\n",
            "[[0. 0. 0. 0.]\n",
            " [0. 0. 0. 0.]\n",
            " [0. 0. 0. 0.]\n",
            " [0. 0. 0. 0.]]\n",
            "\n"
          ]
        }
      ],
      "source": [
        "def inversion_diagonale ( A ) :\n",
        "    inv = np.zeros((len(A), len(A)))\n",
        "    # Ajoutez ici le calcul de la matrice inverse\n",
        "    return inv\n",
        "\n",
        "print(\"***** Diagonale *****\\n\")\n",
        "test_multiple ( inversion_diagonale, matrices_diag )"
      ]
    },
    {
      "cell_type": "markdown",
      "id": "dedb94cb",
      "metadata": {
        "id": "dedb94cb"
      },
      "source": [
        "## Question 2a : matrices triangulaires inférieures"
      ]
    },
    {
      "cell_type": "code",
      "execution_count": 34,
      "id": "ab521653",
      "metadata": {
        "colab": {
          "base_uri": "https://localhost:8080/"
        },
        "id": "ab521653",
        "outputId": "b2ac0829-aadd-4a6e-e038-fdb7cfe16774"
      },
      "outputs": [
        {
          "output_type": "stream",
          "name": "stdout",
          "text": [
            "***** Triangulaires inférieures *****\n",
            "\n",
            "Test numéro 1 :\n",
            "\n",
            "[[1. 0. 0.]\n",
            " [0. 1. 0.]\n",
            " [0. 0. 1.]]\n",
            "    !=\n",
            "[[6.6 0.  0. ]\n",
            " [0.1 1.2 0. ]\n",
            " [5.6 5.9 9. ]]\n",
            "    *\n",
            "[[0. 0. 0.]\n",
            " [0. 0. 0.]\n",
            " [0. 0. 0.]]\n",
            "\n",
            "Test numéro 2 :\n",
            "\n",
            "[[1. 0. 0.]\n",
            " [0. 1. 0.]\n",
            " [0. 0. 1.]]\n",
            "    !=\n",
            "[[7.7 0.  0. ]\n",
            " [4.1 3.3 0. ]\n",
            " [3.1 5.3 6.9]]\n",
            "    *\n",
            "[[0. 0. 0.]\n",
            " [0. 0. 0.]\n",
            " [0. 0. 0.]]\n",
            "\n",
            "Test numéro 3 :\n",
            "\n",
            "[[1. 0. 0. 0.]\n",
            " [0. 1. 0. 0.]\n",
            " [0. 0. 1. 0.]\n",
            " [0. 0. 0. 1.]]\n",
            "    !=\n",
            "[[-1.9  0.   0.   0. ]\n",
            " [ 5.2  8.9  0.   0. ]\n",
            " [-7.9  3.6 -9.8  0. ]\n",
            " [ 8.4 -1.5 -7.6  0.9]]\n",
            "    *\n",
            "[[0. 0. 0. 0.]\n",
            " [0. 0. 0. 0.]\n",
            " [0. 0. 0. 0.]\n",
            " [0. 0. 0. 0.]]\n",
            "\n"
          ]
        }
      ],
      "source": [
        "def inversion_inferieure ( A ) :\n",
        "    inv = np.zeros((len(A), len(A)))\n",
        "    # Ajoutez ici le calcul de la matrice inverse\n",
        "    return inv\n",
        "\n",
        "print(\"***** Triangulaires inférieures *****\\n\")\n",
        "test_multiple ( inversion_inferieure, matrices_inf )"
      ]
    },
    {
      "cell_type": "markdown",
      "id": "9f7eab3a",
      "metadata": {
        "id": "9f7eab3a"
      },
      "source": [
        "## Question 2b : matrices triangulaires supérieures"
      ]
    },
    {
      "cell_type": "code",
      "execution_count": 35,
      "id": "bb9496f1",
      "metadata": {
        "colab": {
          "base_uri": "https://localhost:8080/"
        },
        "id": "bb9496f1",
        "outputId": "9ffeaa4e-543f-4a55-bd4d-f5e56b4c5835"
      },
      "outputs": [
        {
          "output_type": "stream",
          "name": "stdout",
          "text": [
            "***** Triangulaires supérieures *****\n",
            "\n",
            "Test numéro 1 :\n",
            "\n",
            "[[1. 0. 0.]\n",
            " [0. 1. 0.]\n",
            " [0. 0. 1.]]\n",
            "    !=\n",
            "[[4.2 1.1 7.3]\n",
            " [0.  1.4 2.4]\n",
            " [0.  0.  2.3]]\n",
            "    *\n",
            "[[0. 0. 0.]\n",
            " [0. 0. 0.]\n",
            " [0. 0. 0.]]\n",
            "\n",
            "Test numéro 2 :\n",
            "\n",
            "[[1. 0. 0.]\n",
            " [0. 1. 0.]\n",
            " [0. 0. 1.]]\n",
            "    !=\n",
            "[[ 1.1 -6.7  9.3]\n",
            " [ 0.  -4.3  0.2]\n",
            " [ 0.   0.  -3.4]]\n",
            "    *\n",
            "[[0. 0. 0.]\n",
            " [0. 0. 0.]\n",
            " [0. 0. 0.]]\n",
            "\n",
            "Test numéro 3 :\n",
            "\n",
            "[[1. 0. 0. 0.]\n",
            " [0. 1. 0. 0.]\n",
            " [0. 0. 1. 0.]\n",
            " [0. 0. 0. 1.]]\n",
            "    !=\n",
            "[[ 5.7  5.6 -5.3  6. ]\n",
            " [ 0.  -1.6  4.7  1.5]\n",
            " [ 0.   0.  -7.3  3.2]\n",
            " [ 0.   0.   0.   1.8]]\n",
            "    *\n",
            "[[0. 0. 0. 0.]\n",
            " [0. 0. 0. 0.]\n",
            " [0. 0. 0. 0.]\n",
            " [0. 0. 0. 0.]]\n",
            "\n"
          ]
        }
      ],
      "source": [
        "def inversion_superieure ( A ) :\n",
        "    inv = np.zeros((len(A), len(A)))\n",
        "    # Ajoutez ici le calcul de la matrice inverse\n",
        "    return inv\n",
        "\n",
        "print(\"***** Triangulaires supérieures *****\\n\")\n",
        "test_multiple ( inversion_superieure, matrices_sup )"
      ]
    },
    {
      "cell_type": "markdown",
      "id": "32933db6",
      "metadata": {
        "id": "32933db6"
      },
      "source": [
        "## Question 3 : méthode du pivot de Gauss"
      ]
    },
    {
      "cell_type": "code",
      "execution_count": 36,
      "id": "d499493a",
      "metadata": {
        "colab": {
          "base_uri": "https://localhost:8080/"
        },
        "id": "d499493a",
        "outputId": "4d3453ae-08fd-425b-ec4c-342b932b555b"
      },
      "outputs": [
        {
          "output_type": "stream",
          "name": "stdout",
          "text": [
            "***** Pivot de Gauss *****\n",
            "\n",
            "Test numéro 1 :\n",
            "\n",
            "[[1. 0. 0.]\n",
            " [0. 1. 0.]\n",
            " [0. 0. 1.]]\n",
            "    !=\n",
            "[[3.6 2.1 5.5]\n",
            " [1.7 1.3 2.4]\n",
            " [7.1 6.8 2.3]]\n",
            "    *\n",
            "[[0. 0. 0.]\n",
            " [0. 0. 0.]\n",
            " [0. 0. 0.]]\n",
            "\n",
            "Test numéro 2 :\n",
            "\n",
            "[[1. 0. 0.]\n",
            " [0. 1. 0.]\n",
            " [0. 0. 1.]]\n",
            "    !=\n",
            "[[ 2.2  4.1  1.9]\n",
            " [-1.7 -3.   1.6]\n",
            " [ 4.5 -7.4  2.1]]\n",
            "    *\n",
            "[[0. 0. 0.]\n",
            " [0. 0. 0.]\n",
            " [0. 0. 0.]]\n",
            "\n",
            "Test numéro 3 :\n",
            "\n",
            "[[1. 0. 0. 0.]\n",
            " [0. 1. 0. 0.]\n",
            " [0. 0. 1. 0.]\n",
            " [0. 0. 0. 1.]]\n",
            "    !=\n",
            "[[-0.7  6.  -9.1  4.2]\n",
            " [ 4.2  2.8 -4.7  3.9]\n",
            " [-2.5  4.3 -9.3  3.9]\n",
            " [-5.7  2.   5.3 -9.9]]\n",
            "    *\n",
            "[[0. 0. 0. 0.]\n",
            " [0. 0. 0. 0.]\n",
            " [0. 0. 0. 0.]\n",
            " [0. 0. 0. 0.]]\n",
            "\n"
          ]
        }
      ],
      "source": [
        "def inversion_gauss ( A ) :\n",
        "    inv = np.zeros((len(A), len(A)))\n",
        "    # Ajoutez ici le calcul de la matrice inverse\n",
        "    return inv\n",
        "\n",
        "print(\"***** Pivot de Gauss *****\\n\")\n",
        "test_multiple ( inversion_gauss, matrices )"
      ]
    },
    {
      "cell_type": "markdown",
      "id": "9588d550",
      "metadata": {
        "id": "9588d550"
      },
      "source": [
        "# Exercice 3 : méthodes itératives"
      ]
    },
    {
      "cell_type": "markdown",
      "id": "4dc1f6ad",
      "metadata": {
        "id": "4dc1f6ad"
      },
      "source": [
        "### Code fourni\n",
        "/!\\ ne pas modifier /!\\"
      ]
    },
    {
      "cell_type": "markdown",
      "id": "cdeb2aaa",
      "metadata": {
        "id": "cdeb2aaa"
      },
      "source": [
        "Import du package \"Numpy\" pour avoir accès au produit matriciel et produit matrice/vecteur"
      ]
    },
    {
      "cell_type": "code",
      "execution_count": 37,
      "id": "b627c595",
      "metadata": {
        "id": "b627c595"
      },
      "outputs": [],
      "source": [
        "import numpy as np"
      ]
    },
    {
      "cell_type": "markdown",
      "id": "78cf5e54",
      "metadata": {
        "id": "78cf5e54"
      },
      "source": [
        "Les matrices et leur images qui serviront pour les tests (trois matrices 3x3)"
      ]
    },
    {
      "cell_type": "code",
      "execution_count": 38,
      "id": "d0390345",
      "metadata": {
        "id": "d0390345"
      },
      "outputs": [],
      "source": [
        "matrices = []\n",
        "matrices.append( np.array([[ 2.0, 1.0, 0.0 ], [ 1.0, 3.0, 1.0 ], [ 1.0, 1.0, 3.0 ]]) )\n",
        "matrices.append( np.array([[ 0.6, -0.3, 0.1 ],[ -0.1, 0.4, 0.3 ], [ -0.2, 0.1, -0.5 ]]) )\n",
        "matrices.append(np.array([ [ 5.0, 2.0, -1.0 ],[ 1.0, 6.0, -3.0 ], [ 2.0, 1.0, 4.0 ] ]))\n",
        "\n",
        "images = []\n",
        "images.append(np.array([ 4.2, 1.4, 2.3 ]))\n",
        "images.append(np.array([ 0.4, -1.5, 1.6 ]))\n",
        "images.append(np.array([ 0.7, -6.0, -5.7 ]))\n"
      ]
    },
    {
      "cell_type": "markdown",
      "id": "19a3c77d",
      "metadata": {
        "id": "19a3c77d"
      },
      "source": [
        "Les fonctions de test"
      ]
    },
    {
      "cell_type": "code",
      "execution_count": 39,
      "id": "3a7ba1b8",
      "metadata": {
        "id": "3a7ba1b8"
      },
      "outputs": [],
      "source": [
        "def test ( fonction, A, b ) :\n",
        "    x = fonction ( np.copy(A), np.copy(b) )\n",
        "    res = np.dot ( A, x )\n",
        "    print ( b )\n",
        "    erreur = 0\n",
        "    for i in range ( len(b) ) :\n",
        "        erreur += abs ( res[i]-b[i] )\n",
        "    if ( erreur < 0.0001 ) :\n",
        "        print ( \"    =\" )\n",
        "    else :\n",
        "        print ( \"    !=\" )\n",
        "    print ( A )\n",
        "    print ( \"    *\" )\n",
        "    print ( x )   \n",
        "    print()  \n",
        "\n",
        "def test_multiple ( fonction, liste_matrices, listes_images ) :\n",
        "    for i in range ( len ( liste_matrices ) ) :\n",
        "        print ( \"Test numéro\", (i+1), \":\\n\" )\n",
        "        test ( fonction, liste_matrices[i], listes_images[i] )"
      ]
    },
    {
      "cell_type": "markdown",
      "id": "e217aa8d",
      "metadata": {
        "id": "e217aa8d"
      },
      "source": [
        "## Question 1 : algorithme itératif"
      ]
    },
    {
      "cell_type": "code",
      "execution_count": 43,
      "id": "7ffcf9d9",
      "metadata": {
        "id": "7ffcf9d9"
      },
      "outputs": [],
      "source": [
        "def resolution_iterative ( inv_M, N, b ) :\n",
        "    antecedent = np.array([0.0]*len(b))\n",
        "    # Ajoutez ici le calcul de l'antécédent\n",
        "    return antecedent"
      ]
    },
    {
      "cell_type": "markdown",
      "id": "f3ec7fec",
      "metadata": {
        "id": "f3ec7fec"
      },
      "source": [
        "## Question 2 : résolution de Jacobi"
      ]
    },
    {
      "cell_type": "code",
      "execution_count": 44,
      "id": "71f6e7e2",
      "metadata": {
        "colab": {
          "base_uri": "https://localhost:8080/"
        },
        "id": "71f6e7e2",
        "outputId": "1bda08e8-5d1f-435e-e223-4a9402866bcf"
      },
      "outputs": [
        {
          "output_type": "stream",
          "name": "stdout",
          "text": [
            "***** Jacobi *****\n",
            "\n",
            "Test numéro 1 :\n",
            "\n",
            "[4.2 1.4 2.3]\n",
            "    !=\n",
            "[[2. 1. 0.]\n",
            " [1. 3. 1.]\n",
            " [1. 1. 3.]]\n",
            "    *\n",
            "[0. 0. 0.]\n",
            "\n",
            "Test numéro 2 :\n",
            "\n",
            "[ 0.4 -1.5  1.6]\n",
            "    !=\n",
            "[[ 0.6 -0.3  0.1]\n",
            " [-0.1  0.4  0.3]\n",
            " [-0.2  0.1 -0.5]]\n",
            "    *\n",
            "[0. 0. 0.]\n",
            "\n",
            "Test numéro 3 :\n",
            "\n",
            "[ 0.7 -6.  -5.7]\n",
            "    !=\n",
            "[[ 5.  2. -1.]\n",
            " [ 1.  6. -3.]\n",
            " [ 2.  1.  4.]]\n",
            "    *\n",
            "[0. 0. 0.]\n",
            "\n"
          ]
        }
      ],
      "source": [
        "def resolution_jacobi ( A, b ) :\n",
        "    antecedent = np.array([0.0]*len(A))\n",
        "    # Ajoutez ici le calcul de l'antécédent\n",
        "    return antecedent\n",
        "\n",
        "print(\"***** Jacobi *****\\n\")\n",
        "test_multiple ( resolution_jacobi, matrices, images )"
      ]
    },
    {
      "cell_type": "markdown",
      "id": "b789307a",
      "metadata": {
        "id": "b789307a"
      },
      "source": [
        "## Question 3 : résolution de Gauss-Siedel"
      ]
    },
    {
      "cell_type": "code",
      "execution_count": 42,
      "id": "36ee2a2a",
      "metadata": {
        "colab": {
          "base_uri": "https://localhost:8080/"
        },
        "id": "36ee2a2a",
        "outputId": "764ae218-cea7-4750-d3d8-9eee5ded7e29"
      },
      "outputs": [
        {
          "output_type": "stream",
          "name": "stdout",
          "text": [
            "***** Gauss-Siedel *****\n",
            "\n",
            "Test numéro 1 :\n",
            "\n",
            "[4.2 1.4 2.3]\n",
            "    !=\n",
            "[[2. 1. 0.]\n",
            " [1. 3. 1.]\n",
            " [1. 1. 3.]]\n",
            "    *\n",
            "[0. 0. 0.]\n",
            "\n",
            "Test numéro 2 :\n",
            "\n",
            "[ 0.4 -1.5  1.6]\n",
            "    !=\n",
            "[[ 0.6 -0.3  0.1]\n",
            " [-0.1  0.4  0.3]\n",
            " [-0.2  0.1 -0.5]]\n",
            "    *\n",
            "[0. 0. 0.]\n",
            "\n",
            "Test numéro 3 :\n",
            "\n",
            "[ 0.7 -6.  -5.7]\n",
            "    !=\n",
            "[[ 5.  2. -1.]\n",
            " [ 1.  6. -3.]\n",
            " [ 2.  1.  4.]]\n",
            "    *\n",
            "[0. 0. 0.]\n",
            "\n"
          ]
        }
      ],
      "source": [
        "def resolution_gauss_siedel ( A, b ) :\n",
        "    antecedent = np.array([0.0]*len(A))\n",
        "    # Ajoutez ici le calcul de l'antécédent\n",
        "    return antecedent\n",
        "\n",
        "print(\"***** Gauss-Siedel *****\\n\")\n",
        "test_multiple ( resolution_gauss_siedel, matrices, images )"
      ]
    }
  ],
  "metadata": {
    "kernelspec": {
      "display_name": "Python 3 (ipykernel)",
      "language": "python",
      "name": "python3"
    },
    "language_info": {
      "codemirror_mode": {
        "name": "ipython",
        "version": 3
      },
      "file_extension": ".py",
      "mimetype": "text/x-python",
      "name": "python",
      "nbconvert_exporter": "python",
      "pygments_lexer": "ipython3",
      "version": "3.10.2"
    },
    "colab": {
      "provenance": [],
      "collapsed_sections": [
        "f7e0c787",
        "84a0047d"
      ],
      "toc_visible": true
    }
  },
  "nbformat": 4,
  "nbformat_minor": 5
}